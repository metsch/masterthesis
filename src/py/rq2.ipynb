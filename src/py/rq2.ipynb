{
 "cells": [
  {
   "cell_type": "code",
   "execution_count": 1,
   "metadata": {},
   "outputs": [],
   "source": [
    "import os\n",
    "import pandas as pd\n",
    "import git\n",
    "import matplotlib.pyplot as plt\n",
    "import folderstats\n",
    "import numpy as np\n",
    "import math"
   ]
  },
  {
   "cell_type": "code",
   "execution_count": 2,
   "metadata": {},
   "outputs": [],
   "source": [
    "def expected_operations(N,k,p):\n",
    "    if(k==0.0):\n",
    "        k=N\n",
    "    number_of_pools = np.ceil(N/k)\n",
    "    number_of_positive_pools = (1 - np.power((1-p),k)) * number_of_pools\n",
    "    return np.ceil(number_of_pools + number_of_positive_pools*k)\n",
    "\n",
    "def expected_writes(N,k,p):\n",
    "    if(k==0.0):\n",
    "        k=N\n",
    "    number_of_pools = np.ceil(N/k)\n",
    "    return number_of_pools\n",
    "\n",
    "def expected_scrubbing(N,k,p):\n",
    "    if(k==0.0):\n",
    "        k=N\n",
    "    number_of_pools = np.ceil(N/k)\n",
    "    number_of_positive_pools = (1 - np.power((1-p),k))* number_of_pools\n",
    "    return np.ceil(number_of_positive_pools*k)\n",
    "\n",
    "def optimal_pool_size(N,p):\n",
    "    if(p<=0.0):\n",
    "        return N\n",
    "    return np.ceil(1.24*np.power(p,-0.466))\n",
    "# poc_ropsten.ipynb\n",
    "gasAmount = 50870"
   ]
  },
  {
   "cell_type": "code",
   "execution_count": 3,
   "metadata": {},
   "outputs": [
    {
     "data": {
      "text/html": [
       "<div>\n",
       "<style scoped>\n",
       "    .dataframe tbody tr th:only-of-type {\n",
       "        vertical-align: middle;\n",
       "    }\n",
       "\n",
       "    .dataframe tbody tr th {\n",
       "        vertical-align: top;\n",
       "    }\n",
       "\n",
       "    .dataframe thead th {\n",
       "        text-align: right;\n",
       "    }\n",
       "</style>\n",
       "<table border=\"1\" class=\"dataframe\">\n",
       "  <thead>\n",
       "    <tr style=\"text-align: right;\">\n",
       "      <th></th>\n",
       "      <th>id</th>\n",
       "      <th>path</th>\n",
       "      <th>name</th>\n",
       "      <th>extension</th>\n",
       "      <th>size</th>\n",
       "      <th>atime</th>\n",
       "      <th>mtime</th>\n",
       "      <th>ctime</th>\n",
       "      <th>folder</th>\n",
       "      <th>num_files</th>\n",
       "      <th>depth</th>\n",
       "      <th>parent</th>\n",
       "      <th>uid</th>\n",
       "      <th>sha256</th>\n",
       "    </tr>\n",
       "  </thead>\n",
       "  <tbody>\n",
       "    <tr>\n",
       "      <th>0</th>\n",
       "      <td>4</td>\n",
       "      <td>../../data/format-corpus\\desktop-publishing\\In...</td>\n",
       "      <td>Neddy_Flyer_ft_HeatherRyan</td>\n",
       "      <td>jpg</td>\n",
       "      <td>1620612</td>\n",
       "      <td>2022-05-02 12:12:52</td>\n",
       "      <td>2022-03-22 11:00:24</td>\n",
       "      <td>2022-03-22 11:00:24</td>\n",
       "      <td>False</td>\n",
       "      <td>NaN</td>\n",
       "      <td>2</td>\n",
       "      <td>3</td>\n",
       "      <td>0</td>\n",
       "      <td>9d89cc0347adeb5141e4feea3d411b0fd2252c63145e1c...</td>\n",
       "    </tr>\n",
       "    <tr>\n",
       "      <th>1</th>\n",
       "      <td>5</td>\n",
       "      <td>../../data/format-corpus\\desktop-publishing\\In...</td>\n",
       "      <td>Neddy_Flyer_HeatherRyan</td>\n",
       "      <td>indd</td>\n",
       "      <td>1503232</td>\n",
       "      <td>2022-05-02 12:12:52</td>\n",
       "      <td>2022-03-22 11:00:24</td>\n",
       "      <td>2022-03-22 11:00:24</td>\n",
       "      <td>False</td>\n",
       "      <td>NaN</td>\n",
       "      <td>2</td>\n",
       "      <td>3</td>\n",
       "      <td>0</td>\n",
       "      <td>8f206d618c0161cfddf4c18aa3932ed99d9e500bf1260c...</td>\n",
       "    </tr>\n",
       "    <tr>\n",
       "      <th>2</th>\n",
       "      <td>6</td>\n",
       "      <td>../../data/format-corpus\\desktop-publishing\\In...</td>\n",
       "      <td>Neddy_Flyer_HeatherRyan</td>\n",
       "      <td>pdf</td>\n",
       "      <td>59106</td>\n",
       "      <td>2022-05-02 12:12:52</td>\n",
       "      <td>2022-03-22 11:00:24</td>\n",
       "      <td>2022-03-22 11:00:24</td>\n",
       "      <td>False</td>\n",
       "      <td>NaN</td>\n",
       "      <td>2</td>\n",
       "      <td>3</td>\n",
       "      <td>0</td>\n",
       "      <td>6a3c9444d4905c8896a717be7c30ee7d20b3c319eb2d3d...</td>\n",
       "    </tr>\n",
       "    <tr>\n",
       "      <th>3</th>\n",
       "      <td>7</td>\n",
       "      <td>../../data/format-corpus\\desktop-publishing\\In...</td>\n",
       "      <td>Neddy_Flyer_README_HeatherRyan.md</td>\n",
       "      <td>rtf</td>\n",
       "      <td>1232</td>\n",
       "      <td>2022-05-02 12:12:52</td>\n",
       "      <td>2022-03-22 11:00:24</td>\n",
       "      <td>2022-03-22 11:00:24</td>\n",
       "      <td>False</td>\n",
       "      <td>NaN</td>\n",
       "      <td>2</td>\n",
       "      <td>3</td>\n",
       "      <td>0</td>\n",
       "      <td>3ef3b90e7bf9e863d1ae9f862eaa5e1cd87e8f9ef67438...</td>\n",
       "    </tr>\n",
       "    <tr>\n",
       "      <th>6</th>\n",
       "      <td>11</td>\n",
       "      <td>../../data/format-corpus\\disk-images\\fat12\\opf...</td>\n",
       "      <td>blank-untitled-volume</td>\n",
       "      <td>img</td>\n",
       "      <td>1474560</td>\n",
       "      <td>2022-05-02 12:12:52</td>\n",
       "      <td>2022-03-22 11:00:24</td>\n",
       "      <td>2022-03-22 11:00:24</td>\n",
       "      <td>False</td>\n",
       "      <td>NaN</td>\n",
       "      <td>3</td>\n",
       "      <td>10</td>\n",
       "      <td>0</td>\n",
       "      <td>039713487932afa67bd3c024e4d6284aac5548092d8b9b...</td>\n",
       "    </tr>\n",
       "  </tbody>\n",
       "</table>\n",
       "</div>"
      ],
      "text/plain": [
       "   id                                               path  \\\n",
       "0   4  ../../data/format-corpus\\desktop-publishing\\In...   \n",
       "1   5  ../../data/format-corpus\\desktop-publishing\\In...   \n",
       "2   6  ../../data/format-corpus\\desktop-publishing\\In...   \n",
       "3   7  ../../data/format-corpus\\desktop-publishing\\In...   \n",
       "6  11  ../../data/format-corpus\\disk-images\\fat12\\opf...   \n",
       "\n",
       "                                name extension     size               atime  \\\n",
       "0         Neddy_Flyer_ft_HeatherRyan       jpg  1620612 2022-05-02 12:12:52   \n",
       "1            Neddy_Flyer_HeatherRyan      indd  1503232 2022-05-02 12:12:52   \n",
       "2            Neddy_Flyer_HeatherRyan       pdf    59106 2022-05-02 12:12:52   \n",
       "3  Neddy_Flyer_README_HeatherRyan.md       rtf     1232 2022-05-02 12:12:52   \n",
       "6              blank-untitled-volume       img  1474560 2022-05-02 12:12:52   \n",
       "\n",
       "                mtime               ctime  folder  num_files  depth  parent  \\\n",
       "0 2022-03-22 11:00:24 2022-03-22 11:00:24   False        NaN      2       3   \n",
       "1 2022-03-22 11:00:24 2022-03-22 11:00:24   False        NaN      2       3   \n",
       "2 2022-03-22 11:00:24 2022-03-22 11:00:24   False        NaN      2       3   \n",
       "3 2022-03-22 11:00:24 2022-03-22 11:00:24   False        NaN      2       3   \n",
       "6 2022-03-22 11:00:24 2022-03-22 11:00:24   False        NaN      3      10   \n",
       "\n",
       "   uid                                             sha256  \n",
       "0    0  9d89cc0347adeb5141e4feea3d411b0fd2252c63145e1c...  \n",
       "1    0  8f206d618c0161cfddf4c18aa3932ed99d9e500bf1260c...  \n",
       "2    0  6a3c9444d4905c8896a717be7c30ee7d20b3c319eb2d3d...  \n",
       "3    0  3ef3b90e7bf9e863d1ae9f862eaa5e1cd87e8f9ef67438...  \n",
       "6    0  039713487932afa67bd3c024e4d6284aac5548092d8b9b...  "
      ]
     },
     "execution_count": 3,
     "metadata": {},
     "output_type": "execute_result"
    }
   ],
   "source": [
    "folder = \"../../data/format-corpus\"\n",
    "relative_path = '../../data/format-corpus'\n",
    "repo = git.Git(folder)\n",
    "df = folderstats.folderstats(folder, ignore_hidden=True,hash_name=\"sha256\")\n",
    "df = df[df.folder==False]\n",
    "df.head()"
   ]
  },
  {
   "cell_type": "code",
   "execution_count": 4,
   "metadata": {},
   "outputs": [
    {
     "name": "stdout",
     "output_type": "stream",
     "text": [
      "N=1560\n"
     ]
    },
    {
     "data": {
      "text/html": [
       "<div>\n",
       "<style scoped>\n",
       "    .dataframe tbody tr th:only-of-type {\n",
       "        vertical-align: middle;\n",
       "    }\n",
       "\n",
       "    .dataframe tbody tr th {\n",
       "        vertical-align: top;\n",
       "    }\n",
       "\n",
       "    .dataframe thead th {\n",
       "        text-align: right;\n",
       "    }\n",
       "</style>\n",
       "<table border=\"1\" class=\"dataframe\">\n",
       "  <thead>\n",
       "    <tr style=\"text-align: right;\">\n",
       "      <th></th>\n",
       "      <th>path</th>\n",
       "      <th>name</th>\n",
       "      <th>extension</th>\n",
       "      <th>size</th>\n",
       "      <th>sha256</th>\n",
       "      <th>changes</th>\n",
       "    </tr>\n",
       "  </thead>\n",
       "  <tbody>\n",
       "    <tr>\n",
       "      <th>0</th>\n",
       "      <td>../../data/format-corpus\\desktop-publishing\\In...</td>\n",
       "      <td>Neddy_Flyer_ft_HeatherRyan</td>\n",
       "      <td>jpg</td>\n",
       "      <td>1620612</td>\n",
       "      <td>9d89cc0347adeb5141e4feea3d411b0fd2252c63145e1c...</td>\n",
       "      <td>0</td>\n",
       "    </tr>\n",
       "    <tr>\n",
       "      <th>1</th>\n",
       "      <td>../../data/format-corpus\\desktop-publishing\\In...</td>\n",
       "      <td>Neddy_Flyer_HeatherRyan</td>\n",
       "      <td>indd</td>\n",
       "      <td>1503232</td>\n",
       "      <td>8f206d618c0161cfddf4c18aa3932ed99d9e500bf1260c...</td>\n",
       "      <td>0</td>\n",
       "    </tr>\n",
       "    <tr>\n",
       "      <th>2</th>\n",
       "      <td>../../data/format-corpus\\desktop-publishing\\In...</td>\n",
       "      <td>Neddy_Flyer_HeatherRyan</td>\n",
       "      <td>pdf</td>\n",
       "      <td>59106</td>\n",
       "      <td>6a3c9444d4905c8896a717be7c30ee7d20b3c319eb2d3d...</td>\n",
       "      <td>0</td>\n",
       "    </tr>\n",
       "    <tr>\n",
       "      <th>3</th>\n",
       "      <td>../../data/format-corpus\\desktop-publishing\\In...</td>\n",
       "      <td>Neddy_Flyer_README_HeatherRyan.md</td>\n",
       "      <td>rtf</td>\n",
       "      <td>1232</td>\n",
       "      <td>3ef3b90e7bf9e863d1ae9f862eaa5e1cd87e8f9ef67438...</td>\n",
       "      <td>0</td>\n",
       "    </tr>\n",
       "    <tr>\n",
       "      <th>6</th>\n",
       "      <td>../../data/format-corpus\\disk-images\\fat12\\opf...</td>\n",
       "      <td>blank-untitled-volume</td>\n",
       "      <td>img</td>\n",
       "      <td>1474560</td>\n",
       "      <td>039713487932afa67bd3c024e4d6284aac5548092d8b9b...</td>\n",
       "      <td>0</td>\n",
       "    </tr>\n",
       "  </tbody>\n",
       "</table>\n",
       "</div>"
      ],
      "text/plain": [
       "                                                path  \\\n",
       "0  ../../data/format-corpus\\desktop-publishing\\In...   \n",
       "1  ../../data/format-corpus\\desktop-publishing\\In...   \n",
       "2  ../../data/format-corpus\\desktop-publishing\\In...   \n",
       "3  ../../data/format-corpus\\desktop-publishing\\In...   \n",
       "6  ../../data/format-corpus\\disk-images\\fat12\\opf...   \n",
       "\n",
       "                                name extension     size  \\\n",
       "0         Neddy_Flyer_ft_HeatherRyan       jpg  1620612   \n",
       "1            Neddy_Flyer_HeatherRyan      indd  1503232   \n",
       "2            Neddy_Flyer_HeatherRyan       pdf    59106   \n",
       "3  Neddy_Flyer_README_HeatherRyan.md       rtf     1232   \n",
       "6              blank-untitled-volume       img  1474560   \n",
       "\n",
       "                                              sha256  changes  \n",
       "0  9d89cc0347adeb5141e4feea3d411b0fd2252c63145e1c...        0  \n",
       "1  8f206d618c0161cfddf4c18aa3932ed99d9e500bf1260c...        0  \n",
       "2  6a3c9444d4905c8896a717be7c30ee7d20b3c319eb2d3d...        0  \n",
       "3  3ef3b90e7bf9e863d1ae9f862eaa5e1cd87e8f9ef67438...        0  \n",
       "6  039713487932afa67bd3c024e4d6284aac5548092d8b9b...        0  "
      ]
     },
     "execution_count": 4,
     "metadata": {},
     "output_type": "execute_result"
    }
   ],
   "source": [
    "N = df.shape[0]\n",
    "print(\"N={}\".format(N))\n",
    "df = df[[\"path\",\"name\",\"extension\",\"size\",\"sha256\"]]\n",
    "df[\"changes\"] = df.apply(lambda row: len(repo.log(\"--oneline\",os.path.relpath(row.path, relative_path)).splitlines()) - 1 ,axis=1)\n",
    "df[\"extension\"]=df[\"extension\"].fillna(\"None\")\n",
    "df.head()"
   ]
  },
  {
   "cell_type": "code",
   "execution_count": 5,
   "metadata": {},
   "outputs": [
    {
     "data": {
      "text/html": [
       "<div>\n",
       "<style scoped>\n",
       "    .dataframe tbody tr th:only-of-type {\n",
       "        vertical-align: middle;\n",
       "    }\n",
       "\n",
       "    .dataframe tbody tr th {\n",
       "        vertical-align: top;\n",
       "    }\n",
       "\n",
       "    .dataframe thead th {\n",
       "        text-align: right;\n",
       "    }\n",
       "</style>\n",
       "<table border=\"1\" class=\"dataframe\">\n",
       "  <thead>\n",
       "    <tr style=\"text-align: right;\">\n",
       "      <th></th>\n",
       "      <th>N</th>\n",
       "      <th>positives</th>\n",
       "    </tr>\n",
       "  </thead>\n",
       "  <tbody>\n",
       "    <tr>\n",
       "      <th>xml</th>\n",
       "      <td>986</td>\n",
       "      <td>432.0</td>\n",
       "    </tr>\n",
       "    <tr>\n",
       "      <th>pdf</th>\n",
       "      <td>106</td>\n",
       "      <td>2.0</td>\n",
       "    </tr>\n",
       "    <tr>\n",
       "      <th>md</th>\n",
       "      <td>74</td>\n",
       "      <td>17.0</td>\n",
       "    </tr>\n",
       "    <tr>\n",
       "      <th>mov</th>\n",
       "      <td>61</td>\n",
       "      <td>0.0</td>\n",
       "    </tr>\n",
       "    <tr>\n",
       "      <th>java</th>\n",
       "      <td>47</td>\n",
       "      <td>39.0</td>\n",
       "    </tr>\n",
       "  </tbody>\n",
       "</table>\n",
       "</div>"
      ],
      "text/plain": [
       "        N  positives\n",
       "xml   986      432.0\n",
       "pdf   106        2.0\n",
       "md     74       17.0\n",
       "mov    61        0.0\n",
       "java   47       39.0"
      ]
     },
     "execution_count": 5,
     "metadata": {},
     "output_type": "execute_result"
    }
   ],
   "source": [
    "s1 = df[\"extension\"].value_counts().rename(\"N\")\n",
    "s2 = df.loc[df[\"changes\"]>0].groupby([\"extension\"])[\"changes\"].count().rename(\"positives\")\n",
    "df_ = pd.concat([s1, s2], axis=1)\n",
    "df_[\"positives\"] = df_[\"positives\"].fillna(0)\n",
    "df_.head()"
   ]
  },
  {
   "cell_type": "code",
   "execution_count": 6,
   "metadata": {},
   "outputs": [
    {
     "data": {
      "text/plain": [
       "1560"
      ]
     },
     "execution_count": 6,
     "metadata": {},
     "output_type": "execute_result"
    }
   ],
   "source": [
    "df_[\"N\"].sum()"
   ]
  },
  {
   "cell_type": "code",
   "execution_count": 7,
   "metadata": {},
   "outputs": [
    {
     "name": "stdout",
     "output_type": "stream",
     "text": [
      "510.0\n"
     ]
    },
    {
     "data": {
      "text/plain": [
       "<matplotlib.legend.Legend at 0x1f369df3f10>"
      ]
     },
     "execution_count": 7,
     "metadata": {},
     "output_type": "execute_result"
    },
    {
     "data": {
      "image/png": "[encoded data removed]",
      "text/plain": [
       "<Figure size 432x288 with 1 Axes>"
      ]
     },
     "metadata": {
      "needs_background": "light"
     },
     "output_type": "display_data"
    }
   ],
   "source": [
    "_, ax = plt.subplots()\n",
    "df_[\"N\"][:15].plot(kind='bar', ax=ax, color='black',rot=45)\n",
    "df_[\"positives\"][:15].plot(kind='bar', ax=ax, color='grey',rot=45)\n",
    "positives = df_[\"positives\"].sum()\n",
    "print(positives)\n",
    "ax.legend()"
   ]
  },
  {
   "cell_type": "code",
   "execution_count": 8,
   "metadata": {},
   "outputs": [
    {
     "data": {
      "text/html": [
       "<div>\n",
       "<style scoped>\n",
       "    .dataframe tbody tr th:only-of-type {\n",
       "        vertical-align: middle;\n",
       "    }\n",
       "\n",
       "    .dataframe tbody tr th {\n",
       "        vertical-align: top;\n",
       "    }\n",
       "\n",
       "    .dataframe thead th {\n",
       "        text-align: right;\n",
       "    }\n",
       "</style>\n",
       "<table border=\"1\" class=\"dataframe\">\n",
       "  <thead>\n",
       "    <tr style=\"text-align: right;\">\n",
       "      <th></th>\n",
       "      <th>N</th>\n",
       "      <th>positives</th>\n",
       "      <th>p</th>\n",
       "    </tr>\n",
       "  </thead>\n",
       "  <tbody>\n",
       "    <tr>\n",
       "      <th>xml</th>\n",
       "      <td>986</td>\n",
       "      <td>432.0</td>\n",
       "      <td>0.438134</td>\n",
       "    </tr>\n",
       "    <tr>\n",
       "      <th>pdf</th>\n",
       "      <td>106</td>\n",
       "      <td>2.0</td>\n",
       "      <td>0.018868</td>\n",
       "    </tr>\n",
       "    <tr>\n",
       "      <th>md</th>\n",
       "      <td>74</td>\n",
       "      <td>17.0</td>\n",
       "      <td>0.229730</td>\n",
       "    </tr>\n",
       "    <tr>\n",
       "      <th>mov</th>\n",
       "      <td>61</td>\n",
       "      <td>0.0</td>\n",
       "      <td>0.000000</td>\n",
       "    </tr>\n",
       "    <tr>\n",
       "      <th>java</th>\n",
       "      <td>47</td>\n",
       "      <td>39.0</td>\n",
       "      <td>0.829787</td>\n",
       "    </tr>\n",
       "    <tr>\n",
       "      <th>None</th>\n",
       "      <td>26</td>\n",
       "      <td>0.0</td>\n",
       "      <td>0.000000</td>\n",
       "    </tr>\n",
       "    <tr>\n",
       "      <th>zip</th>\n",
       "      <td>17</td>\n",
       "      <td>0.0</td>\n",
       "      <td>0.000000</td>\n",
       "    </tr>\n",
       "    <tr>\n",
       "      <th>txt</th>\n",
       "      <td>14</td>\n",
       "      <td>2.0</td>\n",
       "      <td>0.142857</td>\n",
       "    </tr>\n",
       "    <tr>\n",
       "      <th>doc</th>\n",
       "      <td>13</td>\n",
       "      <td>0.0</td>\n",
       "      <td>0.000000</td>\n",
       "    </tr>\n",
       "    <tr>\n",
       "      <th>jp2</th>\n",
       "      <td>12</td>\n",
       "      <td>0.0</td>\n",
       "      <td>0.000000</td>\n",
       "    </tr>\n",
       "    <tr>\n",
       "      <th>css</th>\n",
       "      <td>11</td>\n",
       "      <td>4.0</td>\n",
       "      <td>0.363636</td>\n",
       "    </tr>\n",
       "    <tr>\n",
       "      <th>html</th>\n",
       "      <td>11</td>\n",
       "      <td>6.0</td>\n",
       "      <td>0.545455</td>\n",
       "    </tr>\n",
       "    <tr>\n",
       "      <th>js</th>\n",
       "      <td>10</td>\n",
       "      <td>3.0</td>\n",
       "      <td>0.300000</td>\n",
       "    </tr>\n",
       "    <tr>\n",
       "      <th>odt</th>\n",
       "      <td>9</td>\n",
       "      <td>0.0</td>\n",
       "      <td>0.000000</td>\n",
       "    </tr>\n",
       "    <tr>\n",
       "      <th>csv</th>\n",
       "      <td>9</td>\n",
       "      <td>1.0</td>\n",
       "      <td>0.111111</td>\n",
       "    </tr>\n",
       "  </tbody>\n",
       "</table>\n",
       "</div>"
      ],
      "text/plain": [
       "        N  positives         p\n",
       "xml   986      432.0  0.438134\n",
       "pdf   106        2.0  0.018868\n",
       "md     74       17.0  0.229730\n",
       "mov    61        0.0  0.000000\n",
       "java   47       39.0  0.829787\n",
       "None   26        0.0  0.000000\n",
       "zip    17        0.0  0.000000\n",
       "txt    14        2.0  0.142857\n",
       "doc    13        0.0  0.000000\n",
       "jp2    12        0.0  0.000000\n",
       "css    11        4.0  0.363636\n",
       "html   11        6.0  0.545455\n",
       "js     10        3.0  0.300000\n",
       "odt     9        0.0  0.000000\n",
       "csv     9        1.0  0.111111"
      ]
     },
     "execution_count": 8,
     "metadata": {},
     "output_type": "execute_result"
    }
   ],
   "source": [
    "df_[\"p\"] = df_.apply(lambda row: row.positives/row.N,axis=1).clip(upper=1)\n",
    "df_ = df_.sort_values(by=[\"N\"],ascending=False)\n",
    "df_[:15]"
   ]
  },
  {
   "cell_type": "code",
   "execution_count": 9,
   "metadata": {},
   "outputs": [
    {
     "data": {
      "text/html": [
       "<div>\n",
       "<style scoped>\n",
       "    .dataframe tbody tr th:only-of-type {\n",
       "        vertical-align: middle;\n",
       "    }\n",
       "\n",
       "    .dataframe tbody tr th {\n",
       "        vertical-align: top;\n",
       "    }\n",
       "\n",
       "    .dataframe thead th {\n",
       "        text-align: right;\n",
       "    }\n",
       "</style>\n",
       "<table border=\"1\" class=\"dataframe\">\n",
       "  <thead>\n",
       "    <tr style=\"text-align: right;\">\n",
       "      <th></th>\n",
       "      <th>N</th>\n",
       "      <th>positives</th>\n",
       "      <th>p</th>\n",
       "      <th>k</th>\n",
       "      <th>O(S_cs)</th>\n",
       "      <th>W(S_cs)</th>\n",
       "      <th>E(S_cs)</th>\n",
       "      <th>C(S_cs)</th>\n",
       "    </tr>\n",
       "  </thead>\n",
       "  <tbody>\n",
       "    <tr>\n",
       "      <th>xml</th>\n",
       "      <td>986</td>\n",
       "      <td>432.0</td>\n",
       "      <td>0.438134</td>\n",
       "      <td>2.0</td>\n",
       "      <td>1168.0</td>\n",
       "      <td>493.0</td>\n",
       "      <td>1.214041</td>\n",
       "      <td>2.000000</td>\n",
       "    </tr>\n",
       "    <tr>\n",
       "      <th>pdf</th>\n",
       "      <td>106</td>\n",
       "      <td>2.0</td>\n",
       "      <td>0.018868</td>\n",
       "      <td>8.0</td>\n",
       "      <td>30.0</td>\n",
       "      <td>14.0</td>\n",
       "      <td>3.600000</td>\n",
       "      <td>7.571429</td>\n",
       "    </tr>\n",
       "    <tr>\n",
       "      <th>md</th>\n",
       "      <td>74</td>\n",
       "      <td>17.0</td>\n",
       "      <td>0.229730</td>\n",
       "      <td>3.0</td>\n",
       "      <td>66.0</td>\n",
       "      <td>25.0</td>\n",
       "      <td>1.378788</td>\n",
       "      <td>2.960000</td>\n",
       "    </tr>\n",
       "    <tr>\n",
       "      <th>mov</th>\n",
       "      <td>61</td>\n",
       "      <td>0.0</td>\n",
       "      <td>0.000000</td>\n",
       "      <td>61.0</td>\n",
       "      <td>1.0</td>\n",
       "      <td>1.0</td>\n",
       "      <td>61.000000</td>\n",
       "      <td>61.000000</td>\n",
       "    </tr>\n",
       "    <tr>\n",
       "      <th>java</th>\n",
       "      <td>47</td>\n",
       "      <td>39.0</td>\n",
       "      <td>0.829787</td>\n",
       "      <td>2.0</td>\n",
       "      <td>71.0</td>\n",
       "      <td>24.0</td>\n",
       "      <td>1.211268</td>\n",
       "      <td>1.958333</td>\n",
       "    </tr>\n",
       "    <tr>\n",
       "      <th>None</th>\n",
       "      <td>26</td>\n",
       "      <td>0.0</td>\n",
       "      <td>0.000000</td>\n",
       "      <td>26.0</td>\n",
       "      <td>1.0</td>\n",
       "      <td>1.0</td>\n",
       "      <td>26.000000</td>\n",
       "      <td>26.000000</td>\n",
       "    </tr>\n",
       "    <tr>\n",
       "      <th>zip</th>\n",
       "      <td>17</td>\n",
       "      <td>0.0</td>\n",
       "      <td>0.000000</td>\n",
       "      <td>17.0</td>\n",
       "      <td>1.0</td>\n",
       "      <td>1.0</td>\n",
       "      <td>17.000000</td>\n",
       "      <td>17.000000</td>\n",
       "    </tr>\n",
       "    <tr>\n",
       "      <th>txt</th>\n",
       "      <td>14</td>\n",
       "      <td>2.0</td>\n",
       "      <td>0.142857</td>\n",
       "      <td>4.0</td>\n",
       "      <td>12.0</td>\n",
       "      <td>4.0</td>\n",
       "      <td>1.333333</td>\n",
       "      <td>3.500000</td>\n",
       "    </tr>\n",
       "    <tr>\n",
       "      <th>doc</th>\n",
       "      <td>13</td>\n",
       "      <td>0.0</td>\n",
       "      <td>0.000000</td>\n",
       "      <td>13.0</td>\n",
       "      <td>1.0</td>\n",
       "      <td>1.0</td>\n",
       "      <td>13.000000</td>\n",
       "      <td>13.000000</td>\n",
       "    </tr>\n",
       "    <tr>\n",
       "      <th>jp2</th>\n",
       "      <td>12</td>\n",
       "      <td>0.0</td>\n",
       "      <td>0.000000</td>\n",
       "      <td>12.0</td>\n",
       "      <td>1.0</td>\n",
       "      <td>1.0</td>\n",
       "      <td>12.000000</td>\n",
       "      <td>12.000000</td>\n",
       "    </tr>\n",
       "    <tr>\n",
       "      <th>css</th>\n",
       "      <td>11</td>\n",
       "      <td>4.0</td>\n",
       "      <td>0.363636</td>\n",
       "      <td>2.0</td>\n",
       "      <td>14.0</td>\n",
       "      <td>6.0</td>\n",
       "      <td>1.071429</td>\n",
       "      <td>1.833333</td>\n",
       "    </tr>\n",
       "    <tr>\n",
       "      <th>html</th>\n",
       "      <td>11</td>\n",
       "      <td>6.0</td>\n",
       "      <td>0.545455</td>\n",
       "      <td>2.0</td>\n",
       "      <td>16.0</td>\n",
       "      <td>6.0</td>\n",
       "      <td>1.062500</td>\n",
       "      <td>1.833333</td>\n",
       "    </tr>\n",
       "    <tr>\n",
       "      <th>js</th>\n",
       "      <td>10</td>\n",
       "      <td>3.0</td>\n",
       "      <td>0.300000</td>\n",
       "      <td>3.0</td>\n",
       "      <td>12.0</td>\n",
       "      <td>4.0</td>\n",
       "      <td>1.083333</td>\n",
       "      <td>2.500000</td>\n",
       "    </tr>\n",
       "    <tr>\n",
       "      <th>odt</th>\n",
       "      <td>9</td>\n",
       "      <td>0.0</td>\n",
       "      <td>0.000000</td>\n",
       "      <td>9.0</td>\n",
       "      <td>1.0</td>\n",
       "      <td>1.0</td>\n",
       "      <td>9.000000</td>\n",
       "      <td>9.000000</td>\n",
       "    </tr>\n",
       "    <tr>\n",
       "      <th>csv</th>\n",
       "      <td>9</td>\n",
       "      <td>1.0</td>\n",
       "      <td>0.111111</td>\n",
       "      <td>4.0</td>\n",
       "      <td>8.0</td>\n",
       "      <td>3.0</td>\n",
       "      <td>1.250000</td>\n",
       "      <td>3.000000</td>\n",
       "    </tr>\n",
       "  </tbody>\n",
       "</table>\n",
       "</div>"
      ],
      "text/plain": [
       "        N  positives         p     k  O(S_cs)  W(S_cs)    E(S_cs)    C(S_cs)\n",
       "xml   986      432.0  0.438134   2.0   1168.0    493.0   1.214041   2.000000\n",
       "pdf   106        2.0  0.018868   8.0     30.0     14.0   3.600000   7.571429\n",
       "md     74       17.0  0.229730   3.0     66.0     25.0   1.378788   2.960000\n",
       "mov    61        0.0  0.000000  61.0      1.0      1.0  61.000000  61.000000\n",
       "java   47       39.0  0.829787   2.0     71.0     24.0   1.211268   1.958333\n",
       "None   26        0.0  0.000000  26.0      1.0      1.0  26.000000  26.000000\n",
       "zip    17        0.0  0.000000  17.0      1.0      1.0  17.000000  17.000000\n",
       "txt    14        2.0  0.142857   4.0     12.0      4.0   1.333333   3.500000\n",
       "doc    13        0.0  0.000000  13.0      1.0      1.0  13.000000  13.000000\n",
       "jp2    12        0.0  0.000000  12.0      1.0      1.0  12.000000  12.000000\n",
       "css    11        4.0  0.363636   2.0     14.0      6.0   1.071429   1.833333\n",
       "html   11        6.0  0.545455   2.0     16.0      6.0   1.062500   1.833333\n",
       "js     10        3.0  0.300000   3.0     12.0      4.0   1.083333   2.500000\n",
       "odt     9        0.0  0.000000   9.0      1.0      1.0   9.000000   9.000000\n",
       "csv     9        1.0  0.111111   4.0      8.0      3.0   1.250000   3.000000"
      ]
     },
     "execution_count": 9,
     "metadata": {},
     "output_type": "execute_result"
    }
   ],
   "source": [
    "\n",
    "\n",
    "df_[\"k\"] = df_.apply(lambda row: optimal_pool_size(row.N,row.p),axis=1)\n",
    "df_[\"O(S_cs)\"] = df_.apply(lambda row:  expected_operations(row.N,row.k,row.p),axis=1)\n",
    "df_[\"W(S_cs)\"] = df_.apply(lambda row:  expected_writes(row.N,row.k,row.p),axis=1)\n",
    "df_[\"E(S_cs)\"] = df_.apply(lambda row: expected_operations(row.N,1,row.p)/row[\"O(S_cs)\"],axis=1)\n",
    "df_[\"C(S_cs)\"] = df_.apply(lambda row: expected_writes(row.N,1,row.p)/row[\"W(S_cs)\"],axis=1)\n",
    "df_[:15]"
   ]
  },
  {
   "cell_type": "code",
   "execution_count": 10,
   "metadata": {},
   "outputs": [
    {
     "name": "stdout",
     "output_type": "stream",
     "text": [
      "662.0\n",
      "1491.0\n"
     ]
    }
   ],
   "source": [
    "print(df_[\"W(S_cs)\"].sum())\n",
    "print(df_[\"O(S_cs)\"].sum())"
   ]
  },
  {
   "cell_type": "code",
   "execution_count": 11,
   "metadata": {},
   "outputs": [
    {
     "name": "stdout",
     "output_type": "stream",
     "text": [
      "E(S_cs)=3.289795148187626\n",
      "C(S_cs)=3.4852354788069078\n"
     ]
    }
   ],
   "source": [
    "\n",
    "print(\"E(S_cs)={}\".format(df_[\"E(S_cs)\"].mean()))\n",
    "print(\"C(S_cs)={}\".format(df_[\"C(S_cs)\"].mean()))\n"
   ]
  },
  {
   "cell_type": "code",
   "execution_count": 12,
   "metadata": {},
   "outputs": [
    {
     "name": "stdout",
     "output_type": "stream",
     "text": [
      "1560\n",
      "0.3269230769230769\n",
      "3.0\n",
      "E(S_h)=1.2897196261682242\n",
      "C(S_h)=3.0\n"
     ]
    },
    {
     "data": {
      "text/plain": [
       "1605.0"
      ]
     },
     "execution_count": 12,
     "metadata": {},
     "output_type": "execute_result"
    }
   ],
   "source": [
    "N=df_[\"N\"].sum()\n",
    "p = positives/N\n",
    "# p=df_[\"p\"].mean()\n",
    "k=optimal_pool_size(N,p)\n",
    "print(N)\n",
    "print(p)\n",
    "print(k)\n",
    "print(\"E(S_h)={}\".format(expected_operations(N,1,p)/expected_operations(N,k,p)))\n",
    "print(\"C(S_h)={}\".format(expected_writes(N,1,p)/expected_writes(N,k,p)))\n",
    "expected_operations(N,k,p)"
   ]
  },
  {
   "cell_type": "code",
   "execution_count": 13,
   "metadata": {},
   "outputs": [
    {
     "name": "stdout",
     "output_type": "stream",
     "text": [
      "E(S_cs)=1.3883299798792756\n",
      "C(S_cs)=2.3564954682779455\n"
     ]
    }
   ],
   "source": [
    "print(\"E(S_cs)={}\".format(expected_operations(N,1,p)/df_[\"O(S_cs)\"].sum()))\n",
    "print(\"C(S_cs)={}\".format(expected_writes(N,1,p)/df_[\"W(S_cs)\"].sum()))"
   ]
  },
  {
   "cell_type": "code",
   "execution_count": 14,
   "metadata": {},
   "outputs": [
    {
     "name": "stdout",
     "output_type": "stream",
     "text": [
      "2070.0\n",
      "1560.0\n"
     ]
    }
   ],
   "source": [
    "print(expected_operations(N,1,p))\n",
    "print(expected_writes(N,1,p))"
   ]
  },
  {
   "cell_type": "code",
   "execution_count": 15,
   "metadata": {},
   "outputs": [
    {
     "data": {
      "text/plain": [
       "1560"
      ]
     },
     "execution_count": 15,
     "metadata": {},
     "output_type": "execute_result"
    }
   ],
   "source": [
    "N"
   ]
  },
  {
   "cell_type": "code",
   "execution_count": 26,
   "metadata": {},
   "outputs": [
    {
     "data": {
      "text/plain": [
       "22031360"
      ]
     },
     "execution_count": 26,
     "metadata": {},
     "output_type": "execute_result"
    }
   ],
   "source": [
    "gas = 520*42368\n",
    "gas"
   ]
  },
  {
   "cell_type": "code",
   "execution_count": 27,
   "metadata": {},
   "outputs": [
    {
     "data": {
      "text/plain": [
       "4406.272"
      ]
     },
     "execution_count": 27,
     "metadata": {},
     "output_type": "execute_result"
    }
   ],
   "source": [
    "gas * 0.00000005 * 4000"
   ]
  },
  {
   "cell_type": "code",
   "execution_count": null,
   "metadata": {},
   "outputs": [],
   "source": []
  }
 ],
 "metadata": {
  "interpreter": {
   "hash": "5cbe5617e6ebb12e3da79bf67e991f578f8d59969394801378cf6f07e711918d"
  },
  "kernelspec": {
   "display_name": "Python 3.9.7 ('ds')",
   "language": "python",
   "name": "python3"
  },
  "language_info": {
   "codemirror_mode": {
    "name": "ipython",
    "version": 3
   },
   "file_extension": ".py",
   "mimetype": "text/x-python",
   "name": "python",
   "nbconvert_exporter": "python",
   "pygments_lexer": "ipython3",
   "version": "3.9.7"
  },
  "orig_nbformat": 4
 },
 "nbformat": 4,
 "nbformat_minor": 2
}
