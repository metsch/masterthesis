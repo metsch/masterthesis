{
 "cells": [
  {
   "cell_type": "code",
   "execution_count": 23,
   "metadata": {},
   "outputs": [],
   "source": [
    "network_url = 'https://ropsten.infura.io/v3/55a512fc01d84f59aa61929ffc8dff87'"
   ]
  },
  {
   "cell_type": "code",
   "execution_count": null,
   "metadata": {},
   "outputs": [],
   "source": [
    "0xf383c4bf0a5c32dd3369b02f68fd4e4400ef59343ad472bc96a28827f32c9abb"
   ]
  },
  {
   "cell_type": "code",
   "execution_count": 24,
   "metadata": {},
   "outputs": [
    {
     "name": "stdout",
     "output_type": "stream",
     "text": [
      "Transaction Count 3\n",
      "ETH Balance: 0.096212689\n",
      "Sender Account: 0x18648B486Bd6B771DB957590E988A2464F22BfCd\n",
      "Contract Deployed at: 0x0243c7aa552730E8C6F7ED25A480a7C0c88a70f0\n",
      "Contract Functions: [<Function getPoolHash(uint32)>, <Function setPoolHash(uint32,bytes32)>]\n"
     ]
    }
   ],
   "source": [
    "import web3\n",
    "import json\n",
    "w3 = web3.Web3(web3.HTTPProvider(network_url))\n",
    "sender = \"0x18648B486Bd6B771DB957590E988A2464F22BfCd\"\n",
    "balance = w3.fromWei(w3.eth.get_balance(sender),\"ether\")\n",
    "tx_count = w3.eth.getTransactionCount(sender)\n",
    "contract_address = \"0x0243c7aa552730E8C6F7ED25A480a7C0c88a70f0\"\n",
    "print(\"Transaction Count {}\".format(tx_count))\n",
    "print(\"ETH Balance: {}\".format(balance))\n",
    "print(\"Sender Account: {}\".format(sender))\n",
    "compiled_contract_path = '../sol/build/contracts/FixityStorage.json'\n",
    "# check contract address if this cell fails\n",
    "deployed_contract_address = w3.toChecksumAddress(contract_address)\n",
    "print(\"Contract Deployed at: {}\".format(deployed_contract_address))\n",
    "\n",
    "with open(compiled_contract_path) as file:\n",
    "    contract_json = json.load(file)  # load contract info as JSON\n",
    "    contract_abi = contract_json['abi']  # fetch contract's abi - necessary to call its functions\n",
    "\n",
    "# Fetch deployed contract reference\n",
    "contract = w3.eth.contract(address=deployed_contract_address, abi=contract_abi)\n",
    "print(\"Contract Functions: {}\".format(contract.all_functions()))"
   ]
  },
  {
   "cell_type": "code",
   "execution_count": null,
   "metadata": {},
   "outputs": [],
   "source": []
  },
  {
   "cell_type": "code",
   "execution_count": 25,
   "metadata": {},
   "outputs": [],
   "source": [
    "from Pool import Pool\n",
    "from Object import Object\n",
    "from Archive import Archive\n",
    "import random\n",
    "import hashlib\n",
    "\n",
    "encoding = \"utf-8\"\n",
    "N = 10000\n",
    "percent = 10\n",
    "prevalence = (percent * N) /100.0\n",
    "p = percent/100.0\n",
    "k=3\n",
    "\n",
    "objects = [Object(i,random.uniform(0,p)) for i in range(0,N)]\n",
    "assert objects[2].hash == hashlib.sha256(\"2\".encode(encoding)).hexdigest()\n",
    "\n",
    "pools=[]\n",
    "for i in range((len(objects) + k - 1) // k ):\n",
    "    # assign pool id to each object in the pool\n",
    "    for obj in objects[i * k:(i + 1) * k]:\n",
    "        obj.pool_id=i\n",
    "    pools.append(Pool(objects[i * k:(i + 1) * k],i))\n",
    "assert pools[0].id == 0\n",
    "assert len(pools[0].objects) == len(pools[1].objects)\n",
    "assert pools[len(pools)-1].hash"
   ]
  },
  {
   "cell_type": "code",
   "execution_count": 44,
   "metadata": {},
   "outputs": [
    {
     "data": {
      "text/plain": [
       "b'\\x17`\\xd2p\\x83\\xf6\\xe2\\xd1\\xc4je\\x93\\x8c\\x03\\xa0\\xc5-\\xcc\\xf5\\\\\\xb4\\xebh\\xa7 \\xe6\\xef\\xe3\\xa8\\x85\\x1fx'"
      ]
     },
     "execution_count": 44,
     "metadata": {},
     "output_type": "execute_result"
    }
   ],
   "source": [
    "poolHashBytes = contract.functions.getPoolHash(0).call()\n",
    "poolHashBytes"
   ]
  },
  {
   "cell_type": "code",
   "execution_count": 28,
   "metadata": {},
   "outputs": [
    {
     "name": "stdout",
     "output_type": "stream",
     "text": [
      "{'from': '0x18648B486Bd6B771DB957590E988A2464F22BfCd', 'to': '0x0243c7aa552730E8C6F7ED25A480a7C0c88a70f0', 'gasPrice': 9350000000}\n",
      "3\n"
     ]
    }
   ],
   "source": [
    "# TODO get real world data \n",
    "gasPrice = w3.toWei('9.35', 'gwei')\n",
    "\n",
    "metaTx = {\n",
    "    \"nonce\":w3.eth.getTransactionCount(sender),\n",
    "    \"from\":sender,\n",
    "    \"to\":deployed_contract_address,\n",
    "    \"gasPrice\": w3.eth.gas_price\n",
    "}\n",
    "print(metaTx)\n",
    "print(w3.eth.getTransactionCount(sender))\n",
    "\n"
   ]
  },
  {
   "cell_type": "code",
   "execution_count": 31,
   "metadata": {},
   "outputs": [
    {
     "data": {
      "text/plain": [
       "9838614869"
      ]
     },
     "execution_count": 31,
     "metadata": {},
     "output_type": "execute_result"
    }
   ],
   "source": [
    "9350000000 \n",
    "9838614869"
   ]
  },
  {
   "cell_type": "code",
   "execution_count": 45,
   "metadata": {},
   "outputs": [
    {
     "data": {
      "text/plain": [
       "SignedTransaction(rawTransaction=HexBytes('0xf8a90585022d4dad8082c350940243c7aa552730e8c6f7ed25a480a7c0c88a70f080b844178d292900000000000000000000000000000000000000000000000000000000000000001760d27083f6e2d1c46a65938c03a0c52dccf55cb4eb68a720e6efe3a8851f782aa0e0119937d868c24eb48a4d4244e70447d63c950d60713a10ef7bc158a6af5fc5a07db0a93013399287be15e5aefbbc6da549bbcec6a99bdcd1d764ca3958aabc52'), hash=HexBytes('0xcf70618cba850f25c8a795f3ff3e7e1ff8d84674ced549871a2d1b09219337cb'), r=101349171955531579537692253290274659607135148774002003810273744102708420239301, s=56851238847543959263851460604244997406670721051345708215295078251189477489746, v=42)"
      ]
     },
     "execution_count": 45,
     "metadata": {},
     "output_type": "execute_result"
    }
   ],
   "source": [
    "pool = pools[0]\n",
    "metaTx.update({\"nonce\":w3.eth.getTransactionCount(sender)})\n",
    "tx = contract.functions.setPoolHash(pool.id,pool.hash).buildTransaction(\n",
    "    {\n",
    "        \"nonce\":w3.eth.getTransactionCount(sender),\n",
    "        \"gas\": 50000,\n",
    "        \"gasPrice\": 9350000000\n",
    "    }\n",
    ")\n",
    "\n",
    "private_key=\"57b21d9e3d36c19c548091acd195c91ebe3ed27dec0fe4903d008f9af9e72f39\"\n",
    "signed_tx = w3.eth.account.sign_transaction(tx,private_key=private_key)\n",
    "signed_tx.hash\n",
    "signed_tx\n"
   ]
  },
  {
   "cell_type": "code",
   "execution_count": 54,
   "metadata": {},
   "outputs": [
    {
     "data": {
      "text/plain": [
       "AttributeDict({'blockHash': HexBytes('0xb100ddb2cbe51d1e77bbb779cb46c5c2a334b82d7dec31849fb8929eaf213b0f'),\n",
       " 'blockNumber': 12145737,\n",
       " 'from': '0x18648B486Bd6B771DB957590E988A2464F22BfCd',\n",
       " 'gas': 50000,\n",
       " 'gasPrice': 9350000000,\n",
       " 'hash': HexBytes('0x8839e03f0143bad34060fa909c35d30f2edb22dd4fdac0264de8ae84176eb1ea'),\n",
       " 'input': '0x178d292900000000000000000000000000000000000000000000000000000000000000001760d27083f6e2d1c46a65938c03a0c52dccf55cb4eb68a720e6efe3a8851f78',\n",
       " 'nonce': 4,\n",
       " 'r': HexBytes('0x71b9fa00f8680ad937bde979fb4e9eb175d6bdfc181acfbf18fe74ea49d4261e'),\n",
       " 's': HexBytes('0x42aba6acbc7a836dd33bda25a6428de486f7d339f8a62acc1a637851b353132c'),\n",
       " 'to': '0x0243c7aa552730E8C6F7ED25A480a7C0c88a70f0',\n",
       " 'transactionIndex': 16,\n",
       " 'type': '0x0',\n",
       " 'v': 41,\n",
       " 'value': 0})"
      ]
     },
     "execution_count": 54,
     "metadata": {},
     "output_type": "execute_result"
    }
   ],
   "source": [
    "w3.eth.get_transaction(\"0x8839e03f0143bad34060fa909c35d30f2edb22dd4fdac0264de8ae84176eb1ea\")"
   ]
  },
  {
   "cell_type": "code",
   "execution_count": 41,
   "metadata": {},
   "outputs": [
    {
     "data": {
      "text/plain": [
       "HexBytes('0x8839e03f0143bad34060fa909c35d30f2edb22dd4fdac0264de8ae84176eb1ea')"
      ]
     },
     "execution_count": 41,
     "metadata": {},
     "output_type": "execute_result"
    }
   ],
   "source": [
    "w3.eth.send_raw_transaction(signed_tx.rawTransaction)"
   ]
  },
  {
   "cell_type": "markdown",
   "metadata": {},
   "source": [
    "Compiling your contracts...\n",
    "===========================\n",
    "> Compiling .\\contracts\\FixityStorage.sol\n",
    "   > transaction hash:    0xf383c4bf0a5c32dd3369b02f68fd4e4400ef59343ad472bc96a28827f32c9abb\n",
    "   > Blocks: 6            Seconds: 193\n",
    "   > contract address:    0x0243c7aa552730E8C6F7ED25A480a7C0c88a70f0\n",
    "   > block number:        12145612\n",
    "   > block timestamp:     1648547025\n",
    "   > account:             0x18648B486Bd6B771DB957590E988A2464F22BfCd\n",
    "   > balance:             0.096212689\n",
    "   > gas used:            166079 (0x288bf)\n",
    "   > gas price:           9.35 gwei\n",
    "   > value sent:          0 ETH\n",
    "   > total cost:          0.00155283865 ETH\n",
    "\n",
    "   Pausing for 2 confirmations...\n",
    "\n",
    "   -------------------------------\n",
    "   > confirmation number: 1 (block: 12145614)\n",
    "   > confirmation number: 2 (block: 12145615)\n",
    "   > Saving artifacts\n",
    "   -------------------------------------\n",
    "   > Total cost:       0.00155283865 ETH\n",
    "\n",
    "Summary\n",
    "=======\n",
    "> Total deployments:   1\n",
    "> Final cost:          0.00155283865 ETH"
   ]
  },
  {
   "cell_type": "code",
   "execution_count": 10,
   "metadata": {},
   "outputs": [],
   "source": [
    "from Pool import Pool\n",
    "from Object import Object\n",
    "from Archive import Archive\n",
    "import random\n",
    "import hashlib\n",
    "\n",
    "encoding = \"utf-8\"\n",
    "N = 100\n",
    "percent = 10\n",
    "prevalence = (percent * N) /100.0\n",
    "p = percent/100.0\n",
    "k=3"
   ]
  },
  {
   "cell_type": "code",
   "execution_count": 11,
   "metadata": {},
   "outputs": [],
   "source": [
    "objects = [Object(i,random.uniform(0,p)) for i in range(0,N)]\n",
    "assert objects[2].hash == hashlib.sha256(\"2\".encode(encoding)).hexdigest()\n",
    "\n",
    "pools=[]\n",
    "for i in range((len(objects) + k - 1) // k ):\n",
    "    # assign pool id to each object in the pool\n",
    "    for obj in objects[i * k:(i + 1) * k]:\n",
    "        obj.pool_id=i\n",
    "    pools.append(Pool(objects[i * k:(i + 1) * k],i))\n",
    "assert pools[0].id == 0\n",
    "assert len(pools[0].objects) == len(pools[1].objects)\n",
    "assert pools[len(pools)-1].hash"
   ]
  },
  {
   "cell_type": "code",
   "execution_count": 14,
   "metadata": {},
   "outputs": [
    {
     "data": {
      "text/plain": [
       "'1760d27083f6e2d1c46a65938c03a0c52dccf55cb4eb68a720e6efe3a8851f78'"
      ]
     },
     "execution_count": 14,
     "metadata": {},
     "output_type": "execute_result"
    }
   ],
   "source": [
    "pools[0].hash"
   ]
  },
  {
   "cell_type": "code",
   "execution_count": null,
   "metadata": {},
   "outputs": [],
   "source": []
  }
 ],
 "metadata": {
  "interpreter": {
   "hash": "5cbe5617e6ebb12e3da79bf67e991f578f8d59969394801378cf6f07e711918d"
  },
  "kernelspec": {
   "display_name": "Python 3.9.7 ('ds')",
   "language": "python",
   "name": "python3"
  },
  "language_info": {
   "codemirror_mode": {
    "name": "ipython",
    "version": 3
   },
   "file_extension": ".py",
   "mimetype": "text/x-python",
   "name": "python",
   "nbconvert_exporter": "python",
   "pygments_lexer": "ipython3",
   "version": "3.9.7"
  },
  "orig_nbformat": 4
 },
 "nbformat": 4,
 "nbformat_minor": 2
}
