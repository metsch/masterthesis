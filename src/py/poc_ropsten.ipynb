{
 "cells": [
  {
   "cell_type": "code",
   "execution_count": 1,
   "metadata": {},
   "outputs": [],
   "source": [
    "import math\n",
    "import web3\n",
    "import json\n",
    "from Pool import Pool\n",
    "from Object import Object\n",
    "import Archive\n",
    "import random\n",
    "import hashlib\n",
    "import numpy as np\n",
    "import matplotlib.pyplot as plt"
   ]
  },
  {
   "cell_type": "code",
   "execution_count": 2,
   "metadata": {},
   "outputs": [
    {
     "data": {
      "text/plain": [
       "448.19876116"
      ]
     },
     "execution_count": 2,
     "metadata": {},
     "output_type": "execute_result"
    }
   ],
   "source": [
    "0.11204969029*4000"
   ]
  },
  {
   "cell_type": "code",
   "execution_count": 3,
   "metadata": {},
   "outputs": [
    {
     "name": "stdout",
     "output_type": "stream",
     "text": [
      "Transaction Count 64\n",
      "ETH Balance: 0.02271006499\n",
      "Sender Account: 0x18648B486Bd6B771DB957590E988A2464F22BfCd\n",
      "Contract Deployed at: 0x0243c7aa552730E8C6F7ED25A480a7C0c88a70f0\n",
      "Contract Functions: [<Function getPoolHash(uint32)>, <Function setPoolHash(uint32,bytes32)>]\n"
     ]
    }
   ],
   "source": [
    "network_url = 'https://ropsten.infura.io/v3/55a512fc01d84f59aa61929ffc8dff87'\n",
    "w3 = web3.Web3(web3.HTTPProvider(network_url))\n",
    "sender = \"0x18648B486Bd6B771DB957590E988A2464F22BfCd\"\n",
    "# pk generated from truffle, unsafe to use\n",
    "private_key=\"57b21d9e3d36c19c548091acd195c91ebe3ed27dec0fe4903d008f9af9e72f39\"\n",
    "balance = w3.fromWei(w3.eth.get_balance(sender),\"ether\")\n",
    "tx_count = w3.eth.getTransactionCount(sender)\n",
    "contract_address = \"0x0243c7aa552730e8c6f7ed25a480a7c0c88a70f0\"\n",
    "print(\"Transaction Count {}\".format(tx_count))\n",
    "print(\"ETH Balance: {}\".format(balance))\n",
    "print(\"Sender Account: {}\".format(sender))\n",
    "compiled_contract_path = '../sol/build/contracts/FixityStorage.json'\n",
    "# check contract address if this cell fails\n",
    "deployed_contract_address = w3.toChecksumAddress(contract_address)\n",
    "print(\"Contract Deployed at: {}\".format(deployed_contract_address))\n",
    "\n",
    "with open(compiled_contract_path) as file:\n",
    "    contract_json = json.load(file)  # load contract info as JSON\n",
    "    contract_abi = contract_json['abi']  # fetch contract's abi - necessary to call its functions\n",
    "\n",
    "# Fetch deployed contract reference\n",
    "contract = w3.eth.contract(address=deployed_contract_address, abi=contract_abi)\n",
    "print(\"Contract Functions: {}\".format(contract.all_functions()))"
   ]
  },
  {
   "cell_type": "code",
   "execution_count": 4,
   "metadata": {},
   "outputs": [],
   "source": [
    "def optimal_size(p):\n",
    "    # https://www.sciencedirect.com/science/article/pii/S1201971220306925\n",
    "    return math.ceil(1.24 * math.pow(p,-0.466))"
   ]
  },
  {
   "cell_type": "code",
   "execution_count": 5,
   "metadata": {},
   "outputs": [],
   "source": [
    "encoding = \"utf-8\"\n",
    "N = 100\n",
    "percent = 10\n",
    "prevalence = (percent * N) /100.0\n",
    "p = percent/100.0\n",
    "\n",
    "objects = [Object(i,random.uniform(0,p)) for i in range(0,N)]\n",
    "assert objects[2].hash == hashlib.sha256(\"2\".encode(encoding)).hexdigest()\n",
    "\n",
    "k = optimal_size(prevalence/N)\n",
    "\n",
    "pools=[]\n",
    "for i in range((len(objects) + k - 1) // k ):\n",
    "    # assign pool id to each object in the pool\n",
    "    for obj in objects[i * k:(i + 1) * k]:\n",
    "        obj.pool_id=i\n",
    "    pools.append(Pool(objects[i * k:(i + 1) * k],i))\n",
    "\n",
    "assert pools[0].id == 0\n",
    "assert len(pools[0].objects) == len(pools[1].objects)\n",
    "assert pools[len(pools)-1].hash"
   ]
  },
  {
   "cell_type": "markdown",
   "metadata": {},
   "source": [
    "The following code cell is the basis for the calculation of txdatazero and txdatazero in Section 5.6 Cost of interacting in my thesis"
   ]
  },
  {
   "cell_type": "code",
   "execution_count": 7,
   "metadata": {},
   "outputs": [
    {
     "name": "stdout",
     "output_type": "stream",
     "text": [
      "Estimated gas cost the transaction=42368\n"
     ]
    }
   ],
   "source": [
    "input_data = \"0x178d292900000000000000000000000000000000000000000000000000000000000000001760d27083f6e2d1c46a65938c03a0c52dccf55cb4eb68a720e6efe3a8851f78\"\n",
    "zeros =  input_data.count(\"0\")\n",
    "non_zeros =  len(input_data)-zeros\n",
    "gas_setPoolHash = zeros*4+non_zeros*16\n",
    "gas_sset = 20000\n",
    "gas_transaction = 21000\n",
    "gas = gas_setPoolHash+gas_sset+gas_transaction\n",
    "print(\"Estimated gas cost the transaction={}\".format(gas))"
   ]
  },
  {
   "cell_type": "code",
   "execution_count": 8,
   "metadata": {},
   "outputs": [
    {
     "name": "stdout",
     "output_type": "stream",
     "text": [
      "Current Gas Price in gwei=86.11 and wei=86110000000\n",
      "Maximum amount of gas I am willing to pay for the tx=50841\n"
     ]
    }
   ],
   "source": [
    "# gas price taken from anyblocks\n",
    "## https://dashboards.anyblock.tools/ethereum/ethereum/ropsten/gas-metrics/?currency=usd&chunk_size=hour&interval=latest_week&speed=slow&tx_type=NATIVE&tx_currency=usd&tx_chunk_size=hour\n",
    "gasPrice = w3.toWei(\"86.11\",\"gwei\")\n",
    "print(\"Current Gas Price in gwei={} and wei={}\".format(\"86.11\",gasPrice))\n",
    "gasLimit = int(gas + gas/100*20)\n",
    "print(\"Maximum amount of gas I am willing to pay for the tx={}\".format(gasLimit))\n"
   ]
  },
  {
   "cell_type": "code",
   "execution_count": 11,
   "metadata": {},
   "outputs": [
    {
     "data": {
      "text/plain": [
       "42368"
      ]
     },
     "execution_count": 11,
     "metadata": {},
     "output_type": "execute_result"
    }
   ],
   "source": [
    "gas"
   ]
  },
  {
   "cell_type": "code",
   "execution_count": 17,
   "metadata": {},
   "outputs": [
    {
     "data": {
      "text/plain": [
       "Decimal('4.2E-8')"
      ]
     },
     "execution_count": 17,
     "metadata": {},
     "output_type": "execute_result"
    }
   ],
   "source": [
    "w3.fromWei(w3.toWei(\"42\",\"gwei\"),\"ether\")"
   ]
  },
  {
   "cell_type": "code",
   "execution_count": 10,
   "metadata": {},
   "outputs": [
    {
     "data": {
      "text/plain": [
       "'5.050096128'"
      ]
     },
     "execution_count": 10,
     "metadata": {},
     "output_type": "execute_result"
    }
   ],
   "source": [
    "ethPrice = 2838\n",
    "gasPriceEth=w3.fromWei(w3.toWei(\"42\",\"gwei\"),\"ether\")\n",
    "format(gas*gasPriceEth*ethPrice,\"f\")"
   ]
  },
  {
   "cell_type": "code",
   "execution_count": 1,
   "metadata": {},
   "outputs": [
    {
     "data": {
      "text/plain": [
       "8.4736"
      ]
     },
     "execution_count": 1,
     "metadata": {},
     "output_type": "execute_result"
    }
   ],
   "source": [
    "42368 * 0.00000005 * 4000"
   ]
  },
  {
   "cell_type": "code",
   "execution_count": 159,
   "metadata": {},
   "outputs": [
    {
     "data": {
      "application/vnd.jupyter.widget-view+json": {
       "model_id": "af2343d6ba17488cb69cd1dc13c4134b",
       "version_major": 2,
       "version_minor": 0
      },
      "text/plain": [
       "  0%|          | 0/25 [00:00<?, ?it/s]"
      ]
     },
     "metadata": {},
     "output_type": "display_data"
    },
    {
     "name": "stdout",
     "output_type": "stream",
     "text": [
      "0\n",
      "1\n",
      "2\n",
      "3\n",
      "4\n",
      "5\n",
      "6\n",
      "7\n",
      "8\n",
      "9\n",
      "10\n",
      "11\n",
      "12\n",
      "13\n",
      "14\n",
      "15\n",
      "16\n",
      "17\n",
      "18\n",
      "19\n",
      "20\n",
      "21\n",
      "22\n",
      "23\n",
      "24\n"
     ]
    }
   ],
   "source": [
    "# persist each pool on the blockchain, for each pool perform a transaction\n",
    "from tqdm.notebook import tqdm, trange\n",
    "write_tx_count = 0\n",
    "read_tx_count = 0\n",
    "transactions = []\n",
    "nonce = w3.eth.getTransactionCount(sender)\n",
    "for pool in tqdm(pools):\n",
    "    tx = contract.functions.setPoolHash(pool.id,pool.hash).buildTransaction(\n",
    "        {\n",
    "            \"nonce\":nonce,\n",
    "            \"gas\": int(gas + gas/100*20),\n",
    "            \"gasPrice\": gasPrice\n",
    "        }\n",
    "    )\n",
    "    signed_tx = w3.eth.account.sign_transaction(tx,private_key=private_key)\n",
    "    tx_hash = w3.eth.send_raw_transaction(signed_tx.rawTransaction)\n",
    "    transactions.append(tx_hash)\n",
    "    nonce = nonce + 1\n",
    "    write_tx_count = write_tx_count + 1 \n"
   ]
  },
  {
   "cell_type": "code",
   "execution_count": 160,
   "metadata": {},
   "outputs": [],
   "source": [
    "import time\n",
    "w3.eth.wait_for_transaction_receipt(transactions[len(transactions)-1].hex(),timeout=120)\n",
    "# wait for the transaction to settle, otherwise the assert will throw because the pools are not updated on chain\n",
    "time.sleep(5)\n",
    "pool_id = pools[0].id\n",
    "poolHashBytes = contract.functions.getPoolHash(pool_id).call()\n",
    "assert poolHashBytes.hex() == pools[pool_id].hash"
   ]
  },
  {
   "cell_type": "code",
   "execution_count": 161,
   "metadata": {},
   "outputs": [],
   "source": [
    "import importlib\n",
    "importlib.reload(Archive)\n",
    "archive = Archive.Archive(objects)\n",
    "\n",
    "assert archive.objects[k*2].pool_id == 2 \n",
    "assert Pool(archive.get_objects_by_pool_id(2)).hash == pools[2].hash\n",
    "assert objects[2].hash==archive.retrieveObj(2).hash\n",
    "# write transactions have to be exactly the number of pools at this stage\n",
    "assert write_tx_count == len(pools)\n",
    "sample = archive.retrieveObj(0)\n",
    "assert sample.pool_id==0\n",
    "pool_of_sample = Pool(archive.get_objects_by_pool_id(sample.pool_id))\n",
    "assert pool_of_sample.hash == pools[0].hash\n",
    "pool_in_blockchain = contract.functions.getPoolHash(sample.pool_id).call()\n",
    "assert pool_of_sample.hash == pool_in_blockchain.hex()"
   ]
  },
  {
   "cell_type": "code",
   "execution_count": 162,
   "metadata": {},
   "outputs": [],
   "source": [
    "archive.corrupt(p)"
   ]
  },
  {
   "cell_type": "code",
   "execution_count": 163,
   "metadata": {},
   "outputs": [
    {
     "data": {
      "application/vnd.jupyter.widget-view+json": {
       "model_id": "73da2050175b4ed59b5fc864bc5318a8",
       "version_major": 2,
       "version_minor": 0
      },
      "text/plain": [
       "  0%|          | 0/100 [00:00<?, ?it/s]"
      ]
     },
     "metadata": {},
     "output_type": "display_data"
    },
    {
     "name": "stdout",
     "output_type": "stream",
     "text": [
      "Number of Distinct Cleaned Pools: 8\n",
      "Write transactions after cleaning: 33\n"
     ]
    }
   ],
   "source": [
    "# repair every object in the archive\n",
    "already_cleaned_pool_ids = set()\n",
    "corrupted_objects_count = 0\n",
    "for obj in tqdm(archive.objects):\n",
    "    pool_of_sample = Pool(archive.get_objects_by_pool_id(obj.pool_id))\n",
    "    pool_in_blockchain = contract.functions.getPoolHash(obj.pool_id).call()\n",
    "\n",
    "    # is the local pool hash the same as the one in the blockchain? and make sure to not double repair a pool\n",
    "    if(pool_of_sample.hash != pool_in_blockchain.hex() and obj.pool_id not in already_cleaned_pool_ids):\n",
    "        tx = contract.functions.setPoolHash(pool.id,pool.hash).buildTransaction(\n",
    "                {\n",
    "                    \"nonce\":nonce,\n",
    "                    \"gas\": int(gas + gas/100*20),\n",
    "                    \"gasPrice\": gasPrice\n",
    "                }\n",
    "            )\n",
    "        signed_tx = w3.eth.account.sign_transaction(tx,private_key=private_key)\n",
    "        tx_hash = w3.eth.send_raw_transaction(signed_tx.rawTransaction)\n",
    "        already_cleaned_pool_ids.add(obj.pool_id)\n",
    "        write_tx_count = write_tx_count+1\n",
    "        nonce = nonce + 1\n",
    "\n",
    "print(\"Number of Distinct Cleaned Pools: {}\".format(len(already_cleaned_pool_ids)))\n",
    "print(\"Write transactions after cleaning: {}\".format(write_tx_count))"
   ]
  },
  {
   "cell_type": "code",
   "execution_count": 166,
   "metadata": {},
   "outputs": [
    {
     "name": "stdout",
     "output_type": "stream",
     "text": [
      "Optimal poolsize 4 with prevalence 10.0 in N=100\n",
      "100 objects distributed in 25 pools with size=4 last pool with size=4\n",
      "Write Transaction Count: 33 \n",
      "Total Cost=ETH 0.11204969029 for 33 transactions \n",
      "Theoretical amount of write transactions: 110.0 with N=100 + prevalence=10.0\n",
      "Number of Distinct Cleaned Pools: 8\n"
     ]
    }
   ],
   "source": [
    "fin_balance = w3.fromWei(w3.eth.get_balance(sender),\"ether\")\n",
    "fin_tx_count = w3.eth.getTransactionCount(sender)\n",
    "print(\"Optimal poolsize {} with prevalence {} in N={}\".format(k,prevalence,N))\n",
    "print(\"{} objects distributed in {} pools with size={} last pool with size={}\".format(N,len(pools),k,len(pools[len(pools)-1].objects)))\n",
    "print(\"Write Transaction Count: {} \".format(fin_tx_count - tx_count))\n",
    "print(\"Total Cost=ETH {} for {} transactions \".format((balance - fin_balance),(fin_tx_count - tx_count)))\n",
    "print(\"Theoretical amount of write transactions: {} with N={} + prevalence={}\".format((N+prevalence),N,prevalence))\n",
    "print(\"Number of Distinct Cleaned Pools: {}\".format(len(already_cleaned_pool_ids)))"
   ]
  }
 ],
 "metadata": {
  "interpreter": {
   "hash": "5cbe5617e6ebb12e3da79bf67e991f578f8d59969394801378cf6f07e711918d"
  },
  "kernelspec": {
   "display_name": "Python 3.9.7 ('ds')",
   "language": "python",
   "name": "python3"
  },
  "language_info": {
   "codemirror_mode": {
    "name": "ipython",
    "version": 3
   },
   "file_extension": ".py",
   "mimetype": "text/x-python",
   "name": "python",
   "nbconvert_exporter": "python",
   "pygments_lexer": "ipython3",
   "version": "3.9.7"
  },
  "orig_nbformat": 4
 },
 "nbformat": 4,
 "nbformat_minor": 2
}
