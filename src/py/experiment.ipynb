{
 "cells": [
  {
   "cell_type": "code",
   "execution_count": 15,
   "metadata": {},
   "outputs": [],
   "source": [
    "import random\n",
    "import numpy as np\n",
    "import hashlib\n",
    "import web3\n",
    "import json"
   ]
  },
  {
   "cell_type": "markdown",
   "metadata": {},
   "source": [
    "RQ 1 To what extend can pooled object hashes increase the transaction throughput and reduce cost for a fixity information storage service on the Ethereum blockchain?\n",
    "\n",
    "RQ 2 What is the optimal pool size based on the corruption rates of digital objects in the archive in terms of transaction throughput and cost?\n",
    "\n",
    "RQ 3 Given that metadata has a higher corruption rate, what effect has the split of metadata and objects on the operation cost?"
   ]
  },
  {
   "cell_type": "code",
   "execution_count": null,
   "metadata": {},
   "outputs": [],
   "source": []
  },
  {
   "cell_type": "code",
   "execution_count": 16,
   "metadata": {},
   "outputs": [
    {
     "name": "stdout",
     "output_type": "stream",
     "text": [
      "id: 0 sha256: 5feceb66ffc86f38d952786c6d696c79c2dbc239dd4e91b46729d73a27fb57e9 corruption_rate: 0.03967356583585622\n",
      "id: 1 sha256: 6b86b273ff34fce19d6b804eff5a3f5747ada4eaa22f1d49c01e52ddb7875b4b corruption_rate: 0.011270764764913467\n",
      "id: 2 sha256: d4735e3a265e16eee03f59718b9b5d03019c07d8b6c51f90da3a666eec13ab35 corruption_rate: 0.029984698210919383\n"
     ]
    }
   ],
   "source": [
    "\n",
    "# creation of N = 10k objects and assigning them corruption rate from 1% to 20% \n",
    "encoding = \"utf-8\"\n",
    "N = 10\n",
    "percent = 10\n",
    "prevalence = (percent * N) /100.0\n",
    "p = percent/100.0\n",
    "\n",
    "class Object:\n",
    "    def __init__(self,id,corruption_rate,pool_id=0):\n",
    "        self.id=id\n",
    "        # sha256 string\n",
    "        self.pool_id=pool_id\n",
    "        # discuss if the pool_id should be hashed with the object in a real case\n",
    "        self.hash=hashlib.sha256(str(id).encode(encoding)).hexdigest()\n",
    "        # corruption rate from 0.01 to 0.2\n",
    "        self.corruption_rate=corruption_rate\n",
    "\n",
    "        self.is_corruped = False\n",
    "    def to_string(self):\n",
    "        return \"id: \" + str(self.id) + \" sha256: \" + self.hash + \" corruption_rate: \" + str(self.corruption_rate)\n",
    "        \n",
    "objects = [Object(i,random.uniform(0,p)) for i in range(0,N)]\n",
    "\n",
    "for i in range(0,3):\n",
    "    print(objects[i].to_string())\n",
    "\n",
    "assert objects[2].hash == hashlib.sha256(\"2\".encode(encoding)).hexdigest()\n"
   ]
  },
  {
   "cell_type": "code",
   "execution_count": 17,
   "metadata": {},
   "outputs": [
    {
     "name": "stdout",
     "output_type": "stream",
     "text": [
      "Optimal poolsize 4 with prevalence 1.0 in N=10\n",
      "Net analyses required for one object: 0.5939\n"
     ]
    }
   ],
   "source": [
    "# RQ 2\n",
    "# TODO finding the optimal pool size \"k\" with a bernoulli experiment based on the corruption rate\n",
    "# https://www.ncbi.nlm.nih.gov/pmc/articles/PMC8242460/\n",
    "import math\n",
    "def optimal_size(p):\n",
    "    # https://www.sciencedirect.com/science/article/pii/S1201971220306925\n",
    "    #poolsize = 1.24* p/N ^-0.466\n",
    "    #return 100\n",
    "    return math.ceil(1.24 * math.pow(p,-0.466))\n",
    "k = optimal_size(prevalence/N)\n",
    "print(\"Optimal poolsize {} with prevalence {} in N={}\".format(k,prevalence,N))\n",
    "print(\"Net analyses required for one object: {}\".format(1/k-math.pow((1-p),k)+1))"
   ]
  },
  {
   "cell_type": "code",
   "execution_count": 18,
   "metadata": {},
   "outputs": [],
   "source": [
    "# import matplotlib.pyplot as plt\n",
    "# x = np.linspace(1,500,500)\n",
    "# y= optimal_size(x/1000)\n",
    "# plt.plot(x/1000,y,color=\"black\")\n",
    "# plt.plot(x[np.argmax(y<2.00)]/1000,2.00,\"ro\")\n",
    "# plt.text(x[np.argmax(y<2.00)]/1000,4.00,\"{}%\".format(x[np.argmax(y<2.00)]/1000*100))\n",
    "# plt.text(-0.07,1.8,\"k=2\",color=\"r\")\n",
    "# plt.axhline(y=2,color=\"r\")\n",
    "# plt.plot()"
   ]
  },
  {
   "cell_type": "code",
   "execution_count": 19,
   "metadata": {},
   "outputs": [],
   "source": [
    "# creation of J pools, fill them with objects and assign each object to a pool\n",
    "class Pool:\n",
    "    def __init__(self,objects,id=-1,transaction=\"\"):\n",
    "        # list of objects in the pool\n",
    "        self.objects=objects\n",
    "        # sha256 root hash of the hash-list\n",
    "        self.hash=hashlib.sha256(\"\".join([obj.hash for obj in objects]).encode(encoding)).hexdigest()\n",
    "        # reference to the pool, integer from 1 - inf \n",
    "        self.id=id\n",
    "        # transaction hash on the ethereum blockchain\n",
    "        self.transaction=transaction\n",
    "    def to_string(self):\n",
    "        return \"PoolId: \" + str(self.id) + \" with \" + str(len(self.objects)) +\" objects in pool\"\n",
    "\n",
    "test_n = 9\n",
    "testpool = Pool(objects[0:test_n])\n",
    "hashlist =\"\"\n",
    "for i in range(test_n):\n",
    "    hashlist+=hashlib.sha256(str(i).encode(encoding)).hexdigest()\n",
    "\n",
    "assert testpool.hash == hashlib.sha256(hashlist.encode(encoding)).hexdigest()"
   ]
  },
  {
   "cell_type": "code",
   "execution_count": 20,
   "metadata": {},
   "outputs": [
    {
     "name": "stdout",
     "output_type": "stream",
     "text": [
      "10 objects distributed in 3 pools with size=4 last pool with size=2\n"
     ]
    }
   ],
   "source": [
    "# Pool Creation\n",
    "# https://www.geeksforgeeks.org/break-list-chunks-size-n-python/\n",
    "# split the list of pools into equal chunks of size k, the last pool is filled with remainders e.g. N= 14 k=3 = [3,3,3,3,2]\n",
    "#pools = [Pool(i,objects[i * k:(i + 1) * k]) for i in range((len(objects) + k - 1) // k )]\n",
    "\n",
    "pools=[]\n",
    "for i in range((len(objects) + k - 1) // k ):\n",
    "    # assign pool id to each object in the pool\n",
    "    for obj in objects[i * k:(i + 1) * k]:\n",
    "        obj.pool_id=i\n",
    "    pools.append(Pool(objects[i * k:(i + 1) * k],i))\n",
    "\n",
    "print(\"{} objects distributed in {} pools with size={} last pool with size={}\".format(N,len(pools),k,len(pools[len(pools)-1].objects)))\n",
    "assert pools[0].id == 0\n",
    "assert len(pools[0].objects) == len(pools[1].objects)\n",
    "assert pools[len(pools)-1].hash"
   ]
  },
  {
   "cell_type": "code",
   "execution_count": 21,
   "metadata": {},
   "outputs": [
    {
     "name": "stdout",
     "output_type": "stream",
     "text": [
      "Transaction Count 159\n",
      "ETH Balance: 99.7707378677\n",
      "Sender Account: 0x18648B486Bd6B771DB957590E988A2464F22BfCd\n",
      "Contract Deployed at: 0x62740793ab9cd41d39B2fbA837dD19B9358Fb85b\n",
      "Contract Functions: [<Function getPoolHash(uint32)>, <Function setPoolHash(uint32,bytes32)>]\n"
     ]
    }
   ],
   "source": [
    "ganache_url = 'http://127.0.0.1:7545'\n",
    "contract_address=\"0x62740793ab9cd41d39B2fbA837dD19B9358Fb85b\"\n",
    "w3 = web3.Web3(web3.HTTPProvider(ganache_url))\n",
    "\n",
    "sender = w3.eth.accounts[0]\n",
    "balance = w3.fromWei(w3.eth.get_balance(sender),\"ether\")\n",
    "tx_count = w3.eth.getTransactionCount(sender)\n",
    "print(\"Transaction Count {}\".format(tx_count))\n",
    "print(\"ETH Balance: {}\".format(balance))\n",
    "print(\"Sender Account: {}\".format(sender))\n",
    "compiled_contract_path = '../sol/build/contracts/FixityStorage.json'\n",
    "# check contract address if this cell fails\n",
    "deployed_contract_address = w3.toChecksumAddress(contract_address)\n",
    "print(\"Contract Deployed at: {}\".format(deployed_contract_address))\n",
    "\n",
    "with open(compiled_contract_path) as file:\n",
    "    contract_json = json.load(file)  # load contract info as JSON\n",
    "    contract_abi = contract_json['abi']  # fetch contract's abi - necessary to call its functions\n",
    "\n",
    "# Fetch deployed contract reference\n",
    "contract = w3.eth.contract(address=deployed_contract_address, abi=contract_abi)\n",
    "print(\"Contract Functions: {}\".format(contract.all_functions()))"
   ]
  },
  {
   "cell_type": "code",
   "execution_count": 22,
   "metadata": {},
   "outputs": [
    {
     "ename": "ValueError",
     "evalue": "{'message': 'from not found; is required', 'code': -32000, 'data': {'stack': 'TXRejectedError: from not found; is required\\n    at StateManager.queueTransaction (C:\\\\Program Files\\\\WindowsApps\\\\GanacheUI_2.5.4.0_x64__5dg5pnz03psnj\\\\app\\\\resources\\\\static\\\\node\\\\node_modules\\\\ganache-core\\\\lib\\\\statemanager.js:345:14)\\n    at GethApiDouble.eth_sendTransaction (C:\\\\Program Files\\\\WindowsApps\\\\GanacheUI_2.5.4.0_x64__5dg5pnz03psnj\\\\app\\\\resources\\\\static\\\\node\\\\node_modules\\\\ganache-core\\\\lib\\\\subproviders\\\\geth_api_double.js:325:14)\\n    at GethApiDouble.handleRequest (C:\\\\Program Files\\\\WindowsApps\\\\GanacheUI_2.5.4.0_x64__5dg5pnz03psnj\\\\app\\\\resources\\\\static\\\\node\\\\node_modules\\\\ganache-core\\\\lib\\\\subproviders\\\\geth_api_double.js:109:10)\\n    at next (C:\\\\Program Files\\\\WindowsApps\\\\GanacheUI_2.5.4.0_x64__5dg5pnz03psnj\\\\app\\\\resources\\\\static\\\\node\\\\node_modules\\\\ganache-core\\\\node_modules\\\\web3-provider-engine\\\\index.js:136:18)\\n    at GethDefaults.handleRequest (C:\\\\Program Files\\\\WindowsApps\\\\GanacheUI_2.5.4.0_x64__5dg5pnz03psnj\\\\app\\\\resources\\\\static\\\\node\\\\node_modules\\\\ganache-core\\\\lib\\\\subproviders\\\\gethdefaults.js:15:12)\\n    at next (C:\\\\Program Files\\\\WindowsApps\\\\GanacheUI_2.5.4.0_x64__5dg5pnz03psnj\\\\app\\\\resources\\\\static\\\\node\\\\node_modules\\\\ganache-core\\\\node_modules\\\\web3-provider-engine\\\\index.js:136:18)\\n    at SubscriptionSubprovider.FilterSubprovider.handleRequest (C:\\\\Program Files\\\\WindowsApps\\\\GanacheUI_2.5.4.0_x64__5dg5pnz03psnj\\\\app\\\\resources\\\\static\\\\node\\\\node_modules\\\\ganache-core\\\\node_modules\\\\web3-provider-engine\\\\subproviders\\\\filters.js:89:7)\\n    at SubscriptionSubprovider.handleRequest (C:\\\\Program Files\\\\WindowsApps\\\\GanacheUI_2.5.4.0_x64__5dg5pnz03psnj\\\\app\\\\resources\\\\static\\\\node\\\\node_modules\\\\ganache-core\\\\node_modules\\\\web3-provider-engine\\\\subproviders\\\\subscriptions.js:137:49)\\n    at next (C:\\\\Program Files\\\\WindowsApps\\\\GanacheUI_2.5.4.0_x64__5dg5pnz03psnj\\\\app\\\\resources\\\\static\\\\node\\\\node_modules\\\\ganache-core\\\\node_modules\\\\web3-provider-engine\\\\index.js:136:18)\\n    at DelayedBlockFilter.handleRequest (C:\\\\Program Files\\\\WindowsApps\\\\GanacheUI_2.5.4.0_x64__5dg5pnz03psnj\\\\app\\\\resources\\\\static\\\\node\\\\node_modules\\\\ganache-core\\\\lib\\\\subproviders\\\\delayedblockfilter.js:31:3)\\n    at next (C:\\\\Program Files\\\\WindowsApps\\\\GanacheUI_2.5.4.0_x64__5dg5pnz03psnj\\\\app\\\\resources\\\\static\\\\node\\\\node_modules\\\\ganache-core\\\\node_modules\\\\web3-provider-engine\\\\index.js:136:18)\\n    at RequestFunnel.handleRequest (C:\\\\Program Files\\\\WindowsApps\\\\GanacheUI_2.5.4.0_x64__5dg5pnz03psnj\\\\app\\\\resources\\\\static\\\\node\\\\node_modules\\\\ganache-core\\\\lib\\\\subproviders\\\\requestfunnel.js:32:12)\\n    at next (C:\\\\Program Files\\\\WindowsApps\\\\GanacheUI_2.5.4.0_x64__5dg5pnz03psnj\\\\app\\\\resources\\\\static\\\\node\\\\node_modules\\\\ganache-core\\\\node_modules\\\\web3-provider-engine\\\\index.js:136:18)\\n    at Web3ProviderEngine._handleAsync (C:\\\\Program Files\\\\WindowsApps\\\\GanacheUI_2.5.4.0_x64__5dg5pnz03psnj\\\\app\\\\resources\\\\static\\\\node\\\\node_modules\\\\ganache-core\\\\node_modules\\\\web3-provider-engine\\\\index.js:123:3)\\n    at Timeout._onTimeout (C:\\\\Program Files\\\\WindowsApps\\\\GanacheUI_2.5.4.0_x64__5dg5pnz03psnj\\\\app\\\\resources\\\\static\\\\node\\\\node_modules\\\\ganache-core\\\\node_modules\\\\web3-provider-engine\\\\index.js:107:12)\\n    at listOnTimeout (internal/timers.js:531:17)', 'name': 'TXRejectedError'}}",
     "output_type": "error",
     "traceback": [
      "\u001b[1;31m---------------------------------------------------------------------------\u001b[0m",
      "\u001b[1;31mValueError\u001b[0m                                Traceback (most recent call last)",
      "\u001b[1;32m~\\AppData\\Local\\Temp/ipykernel_4984/1528929237.py\u001b[0m in \u001b[0;36m<module>\u001b[1;34m\u001b[0m\n\u001b[1;32m----> 1\u001b[1;33m \u001b[0mcontract\u001b[0m\u001b[1;33m.\u001b[0m\u001b[0mfunctions\u001b[0m\u001b[1;33m.\u001b[0m\u001b[0msetPoolHash\u001b[0m\u001b[1;33m(\u001b[0m\u001b[1;36m0\u001b[0m\u001b[1;33m,\u001b[0m\u001b[0mpools\u001b[0m\u001b[1;33m[\u001b[0m\u001b[1;36m0\u001b[0m\u001b[1;33m]\u001b[0m\u001b[1;33m.\u001b[0m\u001b[0mhash\u001b[0m\u001b[1;33m)\u001b[0m\u001b[1;33m.\u001b[0m\u001b[0mtransact\u001b[0m\u001b[1;33m(\u001b[0m\u001b[1;33m)\u001b[0m\u001b[1;33m\u001b[0m\u001b[1;33m\u001b[0m\u001b[0m\n\u001b[0m",
      "\u001b[1;32m~\\dev\\Anaconda\\envs\\ds\\lib\\site-packages\\web3\\contract.py\u001b[0m in \u001b[0;36mtransact\u001b[1;34m(self, transaction)\u001b[0m\n\u001b[0;32m    995\u001b[0m                 )\n\u001b[0;32m    996\u001b[0m \u001b[1;33m\u001b[0m\u001b[0m\n\u001b[1;32m--> 997\u001b[1;33m         return transact_with_contract_function(\n\u001b[0m\u001b[0;32m    998\u001b[0m             \u001b[0mself\u001b[0m\u001b[1;33m.\u001b[0m\u001b[0maddress\u001b[0m\u001b[1;33m,\u001b[0m\u001b[1;33m\u001b[0m\u001b[1;33m\u001b[0m\u001b[0m\n\u001b[0;32m    999\u001b[0m             \u001b[0mself\u001b[0m\u001b[1;33m.\u001b[0m\u001b[0mweb3\u001b[0m\u001b[1;33m,\u001b[0m\u001b[1;33m\u001b[0m\u001b[1;33m\u001b[0m\u001b[0m\n",
      "\u001b[1;32m~\\dev\\Anaconda\\envs\\ds\\lib\\site-packages\\web3\\contract.py\u001b[0m in \u001b[0;36mtransact_with_contract_function\u001b[1;34m(address, web3, function_name, transaction, contract_abi, fn_abi, *args, **kwargs)\u001b[0m\n\u001b[0;32m   1588\u001b[0m     )\n\u001b[0;32m   1589\u001b[0m \u001b[1;33m\u001b[0m\u001b[0m\n\u001b[1;32m-> 1590\u001b[1;33m     \u001b[0mtxn_hash\u001b[0m \u001b[1;33m=\u001b[0m \u001b[0mweb3\u001b[0m\u001b[1;33m.\u001b[0m\u001b[0meth\u001b[0m\u001b[1;33m.\u001b[0m\u001b[0msend_transaction\u001b[0m\u001b[1;33m(\u001b[0m\u001b[0mtransact_transaction\u001b[0m\u001b[1;33m)\u001b[0m\u001b[1;33m\u001b[0m\u001b[1;33m\u001b[0m\u001b[0m\n\u001b[0m\u001b[0;32m   1591\u001b[0m     \u001b[1;32mreturn\u001b[0m \u001b[0mtxn_hash\u001b[0m\u001b[1;33m\u001b[0m\u001b[1;33m\u001b[0m\u001b[0m\n\u001b[0;32m   1592\u001b[0m \u001b[1;33m\u001b[0m\u001b[0m\n",
      "\u001b[1;32m~\\dev\\Anaconda\\envs\\ds\\lib\\site-packages\\web3\\eth.py\u001b[0m in \u001b[0;36msend_transaction\u001b[1;34m(self, transaction)\u001b[0m\n\u001b[0;32m    778\u001b[0m \u001b[1;33m\u001b[0m\u001b[0m\n\u001b[0;32m    779\u001b[0m     \u001b[1;32mdef\u001b[0m \u001b[0msend_transaction\u001b[0m\u001b[1;33m(\u001b[0m\u001b[0mself\u001b[0m\u001b[1;33m,\u001b[0m \u001b[0mtransaction\u001b[0m\u001b[1;33m:\u001b[0m \u001b[0mTxParams\u001b[0m\u001b[1;33m)\u001b[0m \u001b[1;33m->\u001b[0m \u001b[0mHexBytes\u001b[0m\u001b[1;33m:\u001b[0m\u001b[1;33m\u001b[0m\u001b[1;33m\u001b[0m\u001b[0m\n\u001b[1;32m--> 780\u001b[1;33m         \u001b[1;32mreturn\u001b[0m \u001b[0mself\u001b[0m\u001b[1;33m.\u001b[0m\u001b[0m_send_transaction\u001b[0m\u001b[1;33m(\u001b[0m\u001b[0mtransaction\u001b[0m\u001b[1;33m)\u001b[0m\u001b[1;33m\u001b[0m\u001b[1;33m\u001b[0m\u001b[0m\n\u001b[0m\u001b[0;32m    781\u001b[0m \u001b[1;33m\u001b[0m\u001b[0m\n\u001b[0;32m    782\u001b[0m     \u001b[1;32mdef\u001b[0m \u001b[0msend_raw_transaction\u001b[0m\u001b[1;33m(\u001b[0m\u001b[0mself\u001b[0m\u001b[1;33m,\u001b[0m \u001b[0mtransaction\u001b[0m\u001b[1;33m:\u001b[0m \u001b[0mUnion\u001b[0m\u001b[1;33m[\u001b[0m\u001b[0mHexStr\u001b[0m\u001b[1;33m,\u001b[0m \u001b[0mbytes\u001b[0m\u001b[1;33m]\u001b[0m\u001b[1;33m)\u001b[0m \u001b[1;33m->\u001b[0m \u001b[0mHexBytes\u001b[0m\u001b[1;33m:\u001b[0m\u001b[1;33m\u001b[0m\u001b[1;33m\u001b[0m\u001b[0m\n",
      "\u001b[1;32m~\\dev\\Anaconda\\envs\\ds\\lib\\site-packages\\web3\\module.py\u001b[0m in \u001b[0;36mcaller\u001b[1;34m(*args, **kwargs)\u001b[0m\n\u001b[0;32m     55\u001b[0m             \u001b[1;32mreturn\u001b[0m \u001b[0mLogFilter\u001b[0m\u001b[1;33m(\u001b[0m\u001b[0meth_module\u001b[0m\u001b[1;33m=\u001b[0m\u001b[0mmodule\u001b[0m\u001b[1;33m,\u001b[0m \u001b[0mfilter_id\u001b[0m\u001b[1;33m=\u001b[0m\u001b[0merr\u001b[0m\u001b[1;33m.\u001b[0m\u001b[0mfilter_id\u001b[0m\u001b[1;33m)\u001b[0m\u001b[1;33m\u001b[0m\u001b[1;33m\u001b[0m\u001b[0m\n\u001b[0;32m     56\u001b[0m         \u001b[0mresult_formatters\u001b[0m\u001b[1;33m,\u001b[0m \u001b[0merror_formatters\u001b[0m\u001b[1;33m,\u001b[0m \u001b[0mnull_result_formatters\u001b[0m \u001b[1;33m=\u001b[0m \u001b[0mresponse_formatters\u001b[0m\u001b[1;33m\u001b[0m\u001b[1;33m\u001b[0m\u001b[0m\n\u001b[1;32m---> 57\u001b[1;33m         result = w3.manager.request_blocking(method_str,\n\u001b[0m\u001b[0;32m     58\u001b[0m                                              \u001b[0mparams\u001b[0m\u001b[1;33m,\u001b[0m\u001b[1;33m\u001b[0m\u001b[1;33m\u001b[0m\u001b[0m\n\u001b[0;32m     59\u001b[0m                                              \u001b[0merror_formatters\u001b[0m\u001b[1;33m,\u001b[0m\u001b[1;33m\u001b[0m\u001b[1;33m\u001b[0m\u001b[0m\n",
      "\u001b[1;32m~\\dev\\Anaconda\\envs\\ds\\lib\\site-packages\\web3\\manager.py\u001b[0m in \u001b[0;36mrequest_blocking\u001b[1;34m(self, method, params, error_formatters, null_result_formatters)\u001b[0m\n\u001b[0;32m    196\u001b[0m         \"\"\"\n\u001b[0;32m    197\u001b[0m         \u001b[0mresponse\u001b[0m \u001b[1;33m=\u001b[0m \u001b[0mself\u001b[0m\u001b[1;33m.\u001b[0m\u001b[0m_make_request\u001b[0m\u001b[1;33m(\u001b[0m\u001b[0mmethod\u001b[0m\u001b[1;33m,\u001b[0m \u001b[0mparams\u001b[0m\u001b[1;33m)\u001b[0m\u001b[1;33m\u001b[0m\u001b[1;33m\u001b[0m\u001b[0m\n\u001b[1;32m--> 198\u001b[1;33m         return self.formatted_response(response,\n\u001b[0m\u001b[0;32m    199\u001b[0m                                        \u001b[0mparams\u001b[0m\u001b[1;33m,\u001b[0m\u001b[1;33m\u001b[0m\u001b[1;33m\u001b[0m\u001b[0m\n\u001b[0;32m    200\u001b[0m                                        \u001b[0merror_formatters\u001b[0m\u001b[1;33m,\u001b[0m\u001b[1;33m\u001b[0m\u001b[1;33m\u001b[0m\u001b[0m\n",
      "\u001b[1;32m~\\dev\\Anaconda\\envs\\ds\\lib\\site-packages\\web3\\manager.py\u001b[0m in \u001b[0;36mformatted_response\u001b[1;34m(self, response, params, error_formatters, null_result_formatters)\u001b[0m\n\u001b[0;32m    169\u001b[0m         \u001b[1;32mif\u001b[0m \u001b[1;34m\"error\"\u001b[0m \u001b[1;32min\u001b[0m \u001b[0mresponse\u001b[0m\u001b[1;33m:\u001b[0m\u001b[1;33m\u001b[0m\u001b[1;33m\u001b[0m\u001b[0m\n\u001b[0;32m    170\u001b[0m             \u001b[0mapply_error_formatters\u001b[0m\u001b[1;33m(\u001b[0m\u001b[0merror_formatters\u001b[0m\u001b[1;33m,\u001b[0m \u001b[0mresponse\u001b[0m\u001b[1;33m)\u001b[0m\u001b[1;33m\u001b[0m\u001b[1;33m\u001b[0m\u001b[0m\n\u001b[1;32m--> 171\u001b[1;33m             \u001b[1;32mraise\u001b[0m \u001b[0mValueError\u001b[0m\u001b[1;33m(\u001b[0m\u001b[0mresponse\u001b[0m\u001b[1;33m[\u001b[0m\u001b[1;34m\"error\"\u001b[0m\u001b[1;33m]\u001b[0m\u001b[1;33m)\u001b[0m\u001b[1;33m\u001b[0m\u001b[1;33m\u001b[0m\u001b[0m\n\u001b[0m\u001b[0;32m    172\u001b[0m         \u001b[1;31m# NULL_RESPONSES includes None, so return False here as the default\u001b[0m\u001b[1;33m\u001b[0m\u001b[1;33m\u001b[0m\u001b[0m\n\u001b[0;32m    173\u001b[0m         \u001b[1;31m# so we don't apply the null_result_formatters if there is no 'result' key\u001b[0m\u001b[1;33m\u001b[0m\u001b[1;33m\u001b[0m\u001b[0m\n",
      "\u001b[1;31mValueError\u001b[0m: {'message': 'from not found; is required', 'code': -32000, 'data': {'stack': 'TXRejectedError: from not found; is required\\n    at StateManager.queueTransaction (C:\\\\Program Files\\\\WindowsApps\\\\GanacheUI_2.5.4.0_x64__5dg5pnz03psnj\\\\app\\\\resources\\\\static\\\\node\\\\node_modules\\\\ganache-core\\\\lib\\\\statemanager.js:345:14)\\n    at GethApiDouble.eth_sendTransaction (C:\\\\Program Files\\\\WindowsApps\\\\GanacheUI_2.5.4.0_x64__5dg5pnz03psnj\\\\app\\\\resources\\\\static\\\\node\\\\node_modules\\\\ganache-core\\\\lib\\\\subproviders\\\\geth_api_double.js:325:14)\\n    at GethApiDouble.handleRequest (C:\\\\Program Files\\\\WindowsApps\\\\GanacheUI_2.5.4.0_x64__5dg5pnz03psnj\\\\app\\\\resources\\\\static\\\\node\\\\node_modules\\\\ganache-core\\\\lib\\\\subproviders\\\\geth_api_double.js:109:10)\\n    at next (C:\\\\Program Files\\\\WindowsApps\\\\GanacheUI_2.5.4.0_x64__5dg5pnz03psnj\\\\app\\\\resources\\\\static\\\\node\\\\node_modules\\\\ganache-core\\\\node_modules\\\\web3-provider-engine\\\\index.js:136:18)\\n    at GethDefaults.handleRequest (C:\\\\Program Files\\\\WindowsApps\\\\GanacheUI_2.5.4.0_x64__5dg5pnz03psnj\\\\app\\\\resources\\\\static\\\\node\\\\node_modules\\\\ganache-core\\\\lib\\\\subproviders\\\\gethdefaults.js:15:12)\\n    at next (C:\\\\Program Files\\\\WindowsApps\\\\GanacheUI_2.5.4.0_x64__5dg5pnz03psnj\\\\app\\\\resources\\\\static\\\\node\\\\node_modules\\\\ganache-core\\\\node_modules\\\\web3-provider-engine\\\\index.js:136:18)\\n    at SubscriptionSubprovider.FilterSubprovider.handleRequest (C:\\\\Program Files\\\\WindowsApps\\\\GanacheUI_2.5.4.0_x64__5dg5pnz03psnj\\\\app\\\\resources\\\\static\\\\node\\\\node_modules\\\\ganache-core\\\\node_modules\\\\web3-provider-engine\\\\subproviders\\\\filters.js:89:7)\\n    at SubscriptionSubprovider.handleRequest (C:\\\\Program Files\\\\WindowsApps\\\\GanacheUI_2.5.4.0_x64__5dg5pnz03psnj\\\\app\\\\resources\\\\static\\\\node\\\\node_modules\\\\ganache-core\\\\node_modules\\\\web3-provider-engine\\\\subproviders\\\\subscriptions.js:137:49)\\n    at next (C:\\\\Program Files\\\\WindowsApps\\\\GanacheUI_2.5.4.0_x64__5dg5pnz03psnj\\\\app\\\\resources\\\\static\\\\node\\\\node_modules\\\\ganache-core\\\\node_modules\\\\web3-provider-engine\\\\index.js:136:18)\\n    at DelayedBlockFilter.handleRequest (C:\\\\Program Files\\\\WindowsApps\\\\GanacheUI_2.5.4.0_x64__5dg5pnz03psnj\\\\app\\\\resources\\\\static\\\\node\\\\node_modules\\\\ganache-core\\\\lib\\\\subproviders\\\\delayedblockfilter.js:31:3)\\n    at next (C:\\\\Program Files\\\\WindowsApps\\\\GanacheUI_2.5.4.0_x64__5dg5pnz03psnj\\\\app\\\\resources\\\\static\\\\node\\\\node_modules\\\\ganache-core\\\\node_modules\\\\web3-provider-engine\\\\index.js:136:18)\\n    at RequestFunnel.handleRequest (C:\\\\Program Files\\\\WindowsApps\\\\GanacheUI_2.5.4.0_x64__5dg5pnz03psnj\\\\app\\\\resources\\\\static\\\\node\\\\node_modules\\\\ganache-core\\\\lib\\\\subproviders\\\\requestfunnel.js:32:12)\\n    at next (C:\\\\Program Files\\\\WindowsApps\\\\GanacheUI_2.5.4.0_x64__5dg5pnz03psnj\\\\app\\\\resources\\\\static\\\\node\\\\node_modules\\\\ganache-core\\\\node_modules\\\\web3-provider-engine\\\\index.js:136:18)\\n    at Web3ProviderEngine._handleAsync (C:\\\\Program Files\\\\WindowsApps\\\\GanacheUI_2.5.4.0_x64__5dg5pnz03psnj\\\\app\\\\resources\\\\static\\\\node\\\\node_modules\\\\ganache-core\\\\node_modules\\\\web3-provider-engine\\\\index.js:123:3)\\n    at Timeout._onTimeout (C:\\\\Program Files\\\\WindowsApps\\\\GanacheUI_2.5.4.0_x64__5dg5pnz03psnj\\\\app\\\\resources\\\\static\\\\node\\\\node_modules\\\\ganache-core\\\\node_modules\\\\web3-provider-engine\\\\index.js:107:12)\\n    at listOnTimeout (internal/timers.js:531:17)', 'name': 'TXRejectedError'}}"
     ]
    }
   ],
   "source": [
    "contract.functions.setPoolHash(0,pools[0].hash).transact()"
   ]
  },
  {
   "cell_type": "code",
   "execution_count": null,
   "metadata": {},
   "outputs": [
    {
     "data": {
      "text/plain": [
       "<Function setPoolHash(uint32,bytes32) bound to (0, '44e7a7f7eae93fd3e0d52cfd81347de28c7f9312c6ec662617320e269a4243d9')>"
      ]
     },
     "execution_count": 11,
     "metadata": {},
     "output_type": "execute_result"
    }
   ],
   "source": [
    "contract.functions.setPoolHash(0,pools[0].hash)"
   ]
  },
  {
   "cell_type": "code",
   "execution_count": null,
   "metadata": {},
   "outputs": [
    {
     "data": {
      "text/plain": [
       "Decimal('8.48360000')"
      ]
     },
     "execution_count": 11,
     "metadata": {},
     "output_type": "execute_result"
    }
   ],
   "source": [
    "gasPrice = w3.toWei('50', 'gwei')\n",
    "gasPrice\n",
    "eth_amount = w3.fromWei(gasPrice,\"ether\")\n",
    "eth_price = 4000\n",
    "gas_amount = 42\n",
    "eth_amount*eth_price*42418\n"
   ]
  },
  {
   "cell_type": "code",
   "execution_count": null,
   "metadata": {},
   "outputs": [
    {
     "name": "stdout",
     "output_type": "stream",
     "text": [
      "1026\n"
     ]
    },
    {
     "data": {
      "text/plain": [
       "205200"
      ]
     },
     "execution_count": 8,
     "metadata": {},
     "output_type": "execute_result"
    }
   ],
   "source": [
    "txdata=\"0x608060405234801561001057600080fd5b5033600160006101000a81548173ffffffffffffffffffffffffffffffffffffffff021916908373ffffffffffffffffffffffffffffffffffffffff16021790555061019f806100616000396000f3fe608060405234801561001057600080fd5b50600436106100365760003560e01c8063178d29291461003b57806331bc18ac14610079575b600080fd5b6100776004803603604081101561005157600080fd5b81019080803563ffffffff169060200190929190803590602001909291905050506100c1565b005b6100ab6004803603602081101561008f57600080fd5b81019080803563ffffffff169060200190929190505050610142565b6040518082815260200191505060405180910390f35b600160009054906101000a900473ffffffffffffffffffffffffffffffffffffffff1673ffffffffffffffffffffffffffffffffffffffff163373ffffffffffffffffffffffffffffffffffffffff161461011b57600080fd5b806000808463ffffffff1663ffffffff168152602001908152602001600020819055505050565b60008060008363ffffffff1663ffffffff16815260200190815260200160002054905091905056fea265627a7a72315820d37d9937700027df13ab8e0026a627c0742cd896e194cb80b4fc7547123f436764736f6c63430005100032\"\n",
    "bytesize=len(txdata.encode(\"UTF-8\"))\n",
    "print(bytesize)\n",
    "bytesize*200"
   ]
  },
  {
   "cell_type": "code",
   "execution_count": null,
   "metadata": {},
   "outputs": [
    {
     "name": "stdout",
     "output_type": "stream",
     "text": [
      "832\n"
     ]
    },
    {
     "data": {
      "text/plain": [
       "166400"
      ]
     },
     "execution_count": 10,
     "metadata": {},
     "output_type": "execute_result"
    }
   ],
   "source": [
    "deployed_bytecode=\"0x608060405234801561001057600080fd5b50600436106100365760003560e01c8063178d29291461003b57806331bc18ac14610079575b600080fd5b6100776004803603604081101561005157600080fd5b81019080803563ffffffff169060200190929190803590602001909291905050506100c1565b005b6100ab6004803603602081101561008f57600080fd5b81019080803563ffffffff169060200190929190505050610142565b6040518082815260200191505060405180910390f35b600160009054906101000a900473ffffffffffffffffffffffffffffffffffffffff1673ffffffffffffffffffffffffffffffffffffffff163373ffffffffffffffffffffffffffffffffffffffff161461011b57600080fd5b806000808463ffffffff1663ffffffff168152602001908152602001600020819055505050565b60008060008363ffffffff1663ffffffff16815260200190815260200160002054905091905056fea265627a7a72315820d37d9937700027df13ab8e0026a627c0742cd896e194cb80b4fc7547123f436764736f6c63430005100032\"\n",
    "bytesize=len(deployed_bytecode.encode(\"UTF-8\"))\n",
    "print(bytesize)\n",
    "bytesize*200"
   ]
  },
  {
   "cell_type": "code",
   "execution_count": null,
   "metadata": {},
   "outputs": [
    {
     "data": {
      "text/plain": [
       "Decimal('5E-8')"
      ]
     },
     "execution_count": 12,
     "metadata": {},
     "output_type": "execute_result"
    }
   ],
   "source": [
    "eth_amount"
   ]
  },
  {
   "cell_type": "code",
   "execution_count": null,
   "metadata": {},
   "outputs": [
    {
     "name": "stdout",
     "output_type": "stream",
     "text": [
      "{'from': '0x18648B486Bd6B771DB957590E988A2464F22BfCd', 'to': '0x62740793ab9cd41d39B2fbA837dD19B9358Fb85b', 'gas': 2000000, 'gasPrice': 50000000000}\n",
      "158\n"
     ]
    }
   ],
   "source": [
    "gas = 2000000\n",
    "gasPrice = w3.toWei('50', 'gwei')\n",
    "\n",
    "metaTx = {\n",
    "    #\"nonce\":w3.eth.getTransactionCount(sender) nonce is set on transaction call\n",
    "    \"from\":sender,\n",
    "    \"to\":deployed_contract_address,\n",
    "    \"gas\": gas,\n",
    "    \"gasPrice\": gasPrice\n",
    "}\n",
    "print(metaTx)\n",
    "print(w3.eth.getTransactionCount(sender))"
   ]
  },
  {
   "cell_type": "code",
   "execution_count": 29,
   "metadata": {},
   "outputs": [
    {
     "data": {
      "text/plain": [
       "1368"
      ]
     },
     "execution_count": 29,
     "metadata": {},
     "output_type": "execute_result"
    }
   ],
   "source": [
    "tx = contract.functions.setPoolHash(600000,pools[2].hash).buildTransaction(\n",
    "    {\n",
    "        \"nonce\":w3.eth.getTransactionCount(sender),\n",
    "        \"gas\": 50000,\n",
    "        \"gasPrice\": 9350000000\n",
    "    }\n",
    ")\n",
    "data = tx[\"data\"]\n",
    "data = \"0x178d292900000000000000000000000000000000000000000000000000000000000000001760d27083f6e2d1c46a65938c03a0c52dccf55cb4eb68a720e6efe3a8851f78\"\n",
    "data.count(\"0\")\n",
    "len(data)-data.count(\"0\")\n",
    "4 * 70 + 16 * 68"
   ]
  },
  {
   "cell_type": "code",
   "execution_count": 35,
   "metadata": {},
   "outputs": [
    {
     "data": {
      "text/plain": [
       "233104"
      ]
     },
     "execution_count": 35,
     "metadata": {},
     "output_type": "execute_result"
    }
   ],
   "source": [
    "21000 + 32000 + 200 * 832 + 226 * 4 + 800 * 16 "
   ]
  },
  {
   "cell_type": "code",
   "execution_count": 28,
   "metadata": {},
   "outputs": [
    {
     "data": {
      "text/plain": [
       "8.4736"
      ]
     },
     "execution_count": 28,
     "metadata": {},
     "output_type": "execute_result"
    }
   ],
   "source": [
    "42368 * 0.00000005 * 4000"
   ]
  },
  {
   "cell_type": "code",
   "execution_count": 23,
   "metadata": {},
   "outputs": [
    {
     "name": "stdout",
     "output_type": "stream",
     "text": [
      "\n",
      "Average zero byte cost=65.0\n",
      "Average non zero byte cost=73.0\n",
      "Average tx data cost=138.0\n"
     ]
    }
   ],
   "source": [
    "zero_arr=[]\n",
    "non_zero_arr=[]\n",
    "for i in range(0,100):\n",
    "    tx = contract.functions.setPoolHash(600000,pools[2].hash).buildTransaction(\n",
    "        {\n",
    "            \"nonce\":w3.eth.getTransactionCount(sender),\n",
    "            \"gas\": 50000,\n",
    "            \"gasPrice\": 9350000000\n",
    "        }\n",
    "    )\n",
    "    data = tx[\"data\"]\n",
    "    zero_arr.append(data.count(\"0\"))\n",
    "    non_zero_arr.append((len(data)-data.count(\"0\")))\n",
    "    # print(\"zero bytes of the transaction={}*4={} gas\".format(data.count(\"0\"),data.count(\"0\")*4))\n",
    "    # print(\"Non-zero bytes of the transaction={}*16={} gas\".format(len(data)-data.count(\"0\"),len(data)-data.count(\"0\")*16))\n",
    "\n",
    "print()\n",
    "print(\"Average zero byte cost={}\".format(sum(zero_arr)/len(zero_arr)))\n",
    "print(\"Average non zero byte cost={}\".format(sum(non_zero_arr)/len(non_zero_arr)))\n",
    "print(\"Average tx data cost={}\".format(sum(zero_arr)/len(zero_arr) + sum(non_zero_arr)/len(non_zero_arr)))\n"
   ]
  },
  {
   "cell_type": "code",
   "execution_count": null,
   "metadata": {},
   "outputs": [
    {
     "name": "stdout",
     "output_type": "stream",
     "text": [
      "226\n",
      "800\n"
     ]
    },
    {
     "data": {
      "text/plain": [
       "13704"
      ]
     },
     "execution_count": 13,
     "metadata": {},
     "output_type": "execute_result"
    }
   ],
   "source": [
    "input_data_deployment=\"0x608060405234801561001057600080fd5b5033600160006101000a81548173ffffffffffffffffffffffffffffffffffffffff021916908373ffffffffffffffffffffffffffffffffffffffff16021790555061019f806100616000396000f3fe608060405234801561001057600080fd5b50600436106100365760003560e01c8063178d29291461003b57806331bc18ac14610079575b600080fd5b6100776004803603604081101561005157600080fd5b81019080803563ffffffff169060200190929190803590602001909291905050506100c1565b005b6100ab6004803603602081101561008f57600080fd5b81019080803563ffffffff169060200190929190505050610142565b6040518082815260200191505060405180910390f35b600160009054906101000a900473ffffffffffffffffffffffffffffffffffffffff1673ffffffffffffffffffffffffffffffffffffffff163373ffffffffffffffffffffffffffffffffffffffff161461011b57600080fd5b806000808463ffffffff1663ffffffff168152602001908152602001600020819055505050565b60008060008363ffffffff1663ffffffff16815260200190815260200160002054905091905056fea265627a7a72315820d37d9937700027df13ab8e0026a627c0742cd896e194cb80b4fc7547123f436764736f6c63430005100032\"\n",
    "zeros=input_data_deployment.count(\"0\")\n",
    "non_zeros=len(input_data_deployment)-zeros\n",
    "print(zeros)\n",
    "print(non_zeros)\n",
    "zeros*4+non_zeros*16"
   ]
  },
  {
   "cell_type": "code",
   "execution_count": null,
   "metadata": {},
   "outputs": [
    {
     "data": {
      "text/plain": [
       "73"
      ]
     },
     "execution_count": 120,
     "metadata": {},
     "output_type": "execute_result"
    }
   ],
   "source": [
    "len(data)-data.count(\"0\")\n"
   ]
  },
  {
   "cell_type": "code",
   "execution_count": null,
   "metadata": {},
   "outputs": [],
   "source": [
    "private_key=\"57b21d9e3d36c19c548091acd195c91ebe3ed27dec0fe4903d008f9af9e72f39\"\n",
    "signed_tx = w3.eth.account.sign_transaction(tx,private_key=private_key)\n",
    "txhash=w3.eth.send_raw_transaction(signed_tx.rawTransaction)"
   ]
  },
  {
   "cell_type": "code",
   "execution_count": null,
   "metadata": {},
   "outputs": [
    {
     "data": {
      "text/plain": [
       "AttributeDict({'transactionHash': HexBytes('0x6bc687701894cbc374e60b8d3bf966478a109dc352ac62c65e86397be321101d'),\n",
       " 'transactionIndex': 0,\n",
       " 'blockHash': HexBytes('0x3fd78804364665707e247ffa4a5eb0bb99323473cdcf2ce4804ff2e7983f936c'),\n",
       " 'blockNumber': 159,\n",
       " 'from': '0x18648B486Bd6B771DB957590E988A2464F22BfCd',\n",
       " 'to': '0x62740793ab9cd41d39B2fbA837dD19B9358Fb85b',\n",
       " 'gasUsed': 42955,\n",
       " 'cumulativeGasUsed': 42955,\n",
       " 'contractAddress': None,\n",
       " 'logs': [],\n",
       " 'status': 1,\n",
       " 'logsBloom': HexBytes('0x00000000000000000000000000000000000000000000000000000000000000000000000000000000000000000000000000000000000000000000000000000000000000000000000000000000000000000000000000000000000000000000000000000000000000000000000000000000000000000000000000000000000000000000000000000000000000000000000000000000000000000000000000000000000000000000000000000000000000000000000000000000000000000000000000000000000000000000000000000000000000000000000000000000000000000000000000000000000000000000000000000000000000000000000000000000')})"
      ]
     },
     "execution_count": 15,
     "metadata": {},
     "output_type": "execute_result"
    }
   ],
   "source": [
    "w3.eth.get_transaction_receipt(txhash)"
   ]
  },
  {
   "cell_type": "code",
   "execution_count": null,
   "metadata": {},
   "outputs": [],
   "source": [
    "metaTx.update({\"nonce\":w3.eth.getTransactionCount(sender)})\n",
    "tx_hash = contract.functions.setPoolHash(13,pools[0].hash).transact(metaTx)"
   ]
  },
  {
   "cell_type": "code",
   "execution_count": null,
   "metadata": {},
   "outputs": [
    {
     "data": {
      "text/plain": [
       "27931"
      ]
     },
     "execution_count": 151,
     "metadata": {},
     "output_type": "execute_result"
    }
   ],
   "source": [
    "contract.functions.setPoolHash(1,pools[0].hash).estimateGas()"
   ]
  },
  {
   "cell_type": "code",
   "execution_count": null,
   "metadata": {},
   "outputs": [
    {
     "data": {
      "text/plain": [
       "1303"
      ]
     },
     "execution_count": 144,
     "metadata": {},
     "output_type": "execute_result"
    }
   ],
   "source": [
    "23731 - 21000 - 1428"
   ]
  },
  {
   "cell_type": "code",
   "execution_count": null,
   "metadata": {},
   "outputs": [
    {
     "data": {
      "text/plain": [
       "AttributeDict({'hash': HexBytes('0xccc9120c867529a2397a3d1488c5e640f78c233c88e00ee872124a8bbd04aaf7'),\n",
       " 'nonce': 150,\n",
       " 'blockHash': HexBytes('0xcd030624193016414854e531ab0cfd1317bbe91ab833b2581f8cff5e05355fbd'),\n",
       " 'blockNumber': 151,\n",
       " 'transactionIndex': 0,\n",
       " 'from': '0x18648B486Bd6B771DB957590E988A2464F22BfCd',\n",
       " 'to': '0x62740793ab9cd41d39B2fbA837dD19B9358Fb85b',\n",
       " 'value': 0,\n",
       " 'gas': 2000000,\n",
       " 'gasPrice': 50000000000,\n",
       " 'input': '0x178d2929000000000000000000000000000000000000000000000000000000000000002a44e7a7f7eae93fd3e0d52cfd81347de28c7f9312c6ec662617320e269a4243d9',\n",
       " 'v': 37,\n",
       " 'r': HexBytes('0xa0dbd8f4741ee9215805633dd1dbfb8c10c6e0cf182b8ecb63e572e0af64dc87'),\n",
       " 's': HexBytes('0x609539365ba3327a35f6e4557e938a91e515dc4309c97170936c94c14322e222')})"
      ]
     },
     "execution_count": 67,
     "metadata": {},
     "output_type": "execute_result"
    }
   ],
   "source": [
    "w3.eth.getTransaction(tx_hash)"
   ]
  },
  {
   "cell_type": "code",
   "execution_count": null,
   "metadata": {},
   "outputs": [
    {
     "data": {
      "application/vnd.jupyter.widget-view+json": {
       "model_id": "458a522c6474405f9259d26917725600",
       "version_major": 2,
       "version_minor": 0
      },
      "text/plain": [
       "  0%|          | 0/3 [00:00<?, ?it/s]"
      ]
     },
     "metadata": {},
     "output_type": "display_data"
    }
   ],
   "source": [
    "# persist each pool on the blockchain, for each pool perform a transaction\n",
    "# RQ 1 write_tx_count * gasPrice * gas or just read it from ganache\n",
    "from tqdm.notebook import tqdm, trange\n",
    "import time\n",
    "write_tx_count = 0\n",
    "read_tx_count = 0\n",
    "\n",
    "for pool in tqdm(pools):\n",
    "    metaTx.update({\"nonce\":w3.eth.getTransactionCount(sender)})\n",
    "    tx_hash = contract.functions.setPoolHash(pool.id,pool.hash).transact(metaTx)\n",
    "    write_tx_count = write_tx_count + 1 \n",
    "    #print(\"Persisting pool \"+str(pool.id)+\" with hash: \"+str(pool.hash)+\" in transaction \" + tx_hash.hex() + \" succeeded\")"
   ]
  },
  {
   "cell_type": "code",
   "execution_count": null,
   "metadata": {},
   "outputs": [
    {
     "data": {
      "text/plain": [
       "Decimal('99.78265354')"
      ]
     },
     "execution_count": 20,
     "metadata": {},
     "output_type": "execute_result"
    }
   ],
   "source": [
    "b = w3.fromWei(w3.eth.get_balance(sender),\"ether\")\n",
    "b"
   ]
  },
  {
   "cell_type": "code",
   "execution_count": null,
   "metadata": {},
   "outputs": [],
   "source": [
    "metaTx.update({\"nonce\":w3.eth.getTransactionCount(sender)})\n",
    "tx_hash = contract.functions.setPoolHash(pool.id,pool.hash).transact(metaTx)"
   ]
  },
  {
   "cell_type": "code",
   "execution_count": null,
   "metadata": {},
   "outputs": [
    {
     "data": {
      "text/plain": [
       "AttributeDict({'transactionHash': HexBytes('0x1ff96b1e922eae8f5b913aa713e27cd6eb4e4a87a52a2eba63b16826928fea20'),\n",
       " 'transactionIndex': 0,\n",
       " 'blockHash': HexBytes('0x8becfb6b2af1681a1d7105d8133ec88dea4a71ff95b4673de2ea8b653a39279a'),\n",
       " 'blockNumber': 147,\n",
       " 'from': '0x18648B486Bd6B771DB957590E988A2464F22BfCd',\n",
       " 'to': '0x62740793ab9cd41d39B2fbA837dD19B9358Fb85b',\n",
       " 'gasUsed': 23731,\n",
       " 'cumulativeGasUsed': 23731,\n",
       " 'contractAddress': None,\n",
       " 'logs': [],\n",
       " 'status': 1,\n",
       " 'logsBloom': HexBytes('0x00000000000000000000000000000000000000000000000000000000000000000000000000000000000000000000000000000000000000000000000000000000000000000000000000000000000000000000000000000000000000000000000000000000000000000000000000000000000000000000000000000000000000000000000000000000000000000000000000000000000000000000000000000000000000000000000000000000000000000000000000000000000000000000000000000000000000000000000000000000000000000000000000000000000000000000000000000000000000000000000000000000000000000000000000000000')})"
      ]
     },
     "execution_count": 22,
     "metadata": {},
     "output_type": "execute_result"
    }
   ],
   "source": [
    "w3.eth.getTransactionReceipt(tx_hash)"
   ]
  },
  {
   "cell_type": "code",
   "execution_count": null,
   "metadata": {},
   "outputs": [
    {
     "ename": "ABIEventFunctionNotFound",
     "evalue": "(\"The event 'Fixity' was not found in this contract's abi. \", 'Are you sure you provided the correct contract abi?')",
     "output_type": "error",
     "traceback": [
      "\u001b[1;31m---------------------------------------------------------------------------\u001b[0m",
      "\u001b[1;31mABIEventFunctionNotFound\u001b[0m                  Traceback (most recent call last)",
      "\u001b[1;32m~\\AppData\\Local\\Temp/ipykernel_372/264494464.py\u001b[0m in \u001b[0;36m<module>\u001b[1;34m\u001b[0m\n\u001b[1;32m----> 1\u001b[1;33m \u001b[0mcontract\u001b[0m\u001b[1;33m.\u001b[0m\u001b[0mevents\u001b[0m\u001b[1;33m.\u001b[0m\u001b[0mFixity\u001b[0m\u001b[1;33m(\u001b[0m\u001b[1;33m)\u001b[0m\u001b[1;33m.\u001b[0m\u001b[0mprocessReceipt\u001b[0m\u001b[1;33m(\u001b[0m\u001b[0mw3\u001b[0m\u001b[1;33m.\u001b[0m\u001b[0meth\u001b[0m\u001b[1;33m.\u001b[0m\u001b[0mgetTransactionReceipt\u001b[0m\u001b[1;33m(\u001b[0m\u001b[0mtx_hash\u001b[0m\u001b[1;33m)\u001b[0m\u001b[1;33m)\u001b[0m\u001b[1;33m[\u001b[0m\u001b[1;36m0\u001b[0m\u001b[1;33m]\u001b[0m\u001b[1;33m[\u001b[0m\u001b[1;34m\"args\"\u001b[0m\u001b[1;33m]\u001b[0m\u001b[1;33m.\u001b[0m\u001b[0mpoolId\u001b[0m\u001b[1;33m\u001b[0m\u001b[1;33m\u001b[0m\u001b[0m\n\u001b[0m",
      "\u001b[1;32m~\\dev\\Anaconda\\envs\\ds\\lib\\site-packages\\web3\\contract.py\u001b[0m in \u001b[0;36m__getattr__\u001b[1;34m(self, event_name)\u001b[0m\n\u001b[0;32m    252\u001b[0m             )\n\u001b[0;32m    253\u001b[0m         \u001b[1;32melif\u001b[0m \u001b[0mevent_name\u001b[0m \u001b[1;32mnot\u001b[0m \u001b[1;32min\u001b[0m \u001b[0mself\u001b[0m\u001b[1;33m.\u001b[0m\u001b[0m__dict__\u001b[0m\u001b[1;33m[\u001b[0m\u001b[1;34m'_events'\u001b[0m\u001b[1;33m]\u001b[0m\u001b[1;33m:\u001b[0m\u001b[1;33m\u001b[0m\u001b[1;33m\u001b[0m\u001b[0m\n\u001b[1;32m--> 254\u001b[1;33m             raise ABIEventFunctionNotFound(\n\u001b[0m\u001b[0;32m    255\u001b[0m                 \u001b[1;34m\"The event '{}' was not found in this contract's abi. \"\u001b[0m\u001b[1;33m.\u001b[0m\u001b[0mformat\u001b[0m\u001b[1;33m(\u001b[0m\u001b[0mevent_name\u001b[0m\u001b[1;33m)\u001b[0m\u001b[1;33m,\u001b[0m\u001b[1;33m\u001b[0m\u001b[1;33m\u001b[0m\u001b[0m\n\u001b[0;32m    256\u001b[0m                 \u001b[1;34m\"Are you sure you provided the correct contract abi?\"\u001b[0m\u001b[1;33m\u001b[0m\u001b[1;33m\u001b[0m\u001b[0m\n",
      "\u001b[1;31mABIEventFunctionNotFound\u001b[0m: (\"The event 'Fixity' was not found in this contract's abi. \", 'Are you sure you provided the correct contract abi?')"
     ]
    }
   ],
   "source": [
    "contract.events.Fixity().processReceipt(w3.eth.getTransactionReceipt(tx_hash))[0][\"args\"].poolId"
   ]
  },
  {
   "cell_type": "code",
   "execution_count": null,
   "metadata": {},
   "outputs": [
    {
     "name": "stdout",
     "output_type": "stream",
     "text": [
      "0.00483700\n"
     ]
    }
   ],
   "source": [
    "print(b - w3.fromWei(w3.eth.get_balance(sender),\"ether\"))"
   ]
  },
  {
   "cell_type": "code",
   "execution_count": null,
   "metadata": {},
   "outputs": [
    {
     "ename": "AssertionError",
     "evalue": "",
     "output_type": "error",
     "traceback": [
      "\u001b[1;31m---------------------------------------------------------------------------\u001b[0m",
      "\u001b[1;31mAssertionError\u001b[0m                            Traceback (most recent call last)",
      "\u001b[1;32m~\\AppData\\Local\\Temp/ipykernel_1312/3159080704.py\u001b[0m in \u001b[0;36m<module>\u001b[1;34m\u001b[0m\n\u001b[0;32m      3\u001b[0m \u001b[0mpoolHashBytes\u001b[0m \u001b[1;33m=\u001b[0m \u001b[0mcontract\u001b[0m\u001b[1;33m.\u001b[0m\u001b[0mfunctions\u001b[0m\u001b[1;33m.\u001b[0m\u001b[0mgetPoolHash\u001b[0m\u001b[1;33m(\u001b[0m\u001b[0mpool_id\u001b[0m\u001b[1;33m)\u001b[0m\u001b[1;33m.\u001b[0m\u001b[0mcall\u001b[0m\u001b[1;33m(\u001b[0m\u001b[1;33m)\u001b[0m\u001b[1;33m\u001b[0m\u001b[1;33m\u001b[0m\u001b[0m\n\u001b[0;32m      4\u001b[0m \u001b[0mread_tx_count\u001b[0m \u001b[1;33m=\u001b[0m \u001b[0mread_tx_count\u001b[0m \u001b[1;33m+\u001b[0m \u001b[1;36m1\u001b[0m\u001b[1;33m\u001b[0m\u001b[1;33m\u001b[0m\u001b[0m\n\u001b[1;32m----> 5\u001b[1;33m \u001b[1;32massert\u001b[0m \u001b[0mpoolHashBytes\u001b[0m\u001b[1;33m.\u001b[0m\u001b[0mhex\u001b[0m\u001b[1;33m(\u001b[0m\u001b[1;33m)\u001b[0m \u001b[1;33m==\u001b[0m \u001b[0mpools\u001b[0m\u001b[1;33m[\u001b[0m\u001b[0mpool_id\u001b[0m\u001b[1;33m]\u001b[0m\u001b[1;33m.\u001b[0m\u001b[0mhash\u001b[0m\u001b[1;33m\u001b[0m\u001b[1;33m\u001b[0m\u001b[0m\n\u001b[0m",
      "\u001b[1;31mAssertionError\u001b[0m: "
     ]
    }
   ],
   "source": [
    "# test if persistence on the blockchain was successfull\n",
    "pool_id = pools[0].id\n",
    "poolHashBytes = contract.functions.getPoolHash(pool_id).call()\n",
    "read_tx_count = read_tx_count + 1\n",
    "assert poolHashBytes.hex() == pools[pool_id].hash"
   ]
  },
  {
   "cell_type": "code",
   "execution_count": null,
   "metadata": {},
   "outputs": [],
   "source": [
    "# \"ingest\" objects into the \"archive\"\n",
    "import random\n",
    "\n",
    "class Archive:\n",
    "    def __init__(self,objects):\n",
    "        self.objects=objects\n",
    "\n",
    "    def retrieveObj(self,id):\n",
    "        return next(obj for obj in objects if obj.id == id)\n",
    "\n",
    "    def get_objects_by_pool_id(self,pool_id):\n",
    "        return [obj for obj in self.objects if obj.pool_id == pool_id]\n",
    "    \n",
    "    def get_sample(self,n):\n",
    "        return random.sample(self.objects,n)\n",
    "\n",
    "    def corrupt(self,p):\n",
    "        for obj in self.objects:\n",
    "            if(random.uniform(0, 1)<p):\n",
    "                obj.hash=hashlib.sha256((str(obj.id) + \"x\").encode(encoding)).hexdigest()\n",
    "                obj.is_corruped=True\n",
    "\n",
    "    def repair(self,pool_id):\n",
    "        global write_tx_count\n",
    "        write_tx_count=write_tx_count+1\n",
    "        global metaTx\n",
    "        metaTx.update({\"nonce\":w3.eth.getTransactionCount(sender)})\n",
    "        contract.functions.setPoolHash(pool.id,pool.hash).transact(metaTx)\n",
    "        # TODO what happens if a corrupt pool was found\n",
    "        return 0\n",
    "    def clean(self):\n",
    "        print(\"Cleanup archive\")\n",
    "\n",
    "archive = Archive(objects)\n",
    "\n",
    "assert archive.objects[k*2].pool_id == 2 \n",
    "assert Pool(archive.get_objects_by_pool_id(2)).hash == pools[2].hash\n",
    "assert objects[2].hash==archive.retrieveObj(2).hash\n",
    "# write transactions have to be exactly the number of pools at this stage\n",
    "assert write_tx_count == len(pools)"
   ]
  },
  {
   "cell_type": "code",
   "execution_count": null,
   "metadata": {},
   "outputs": [
    {
     "name": "stdout",
     "output_type": "stream",
     "text": [
      "Write transactions after ingest: 3\n"
     ]
    }
   ],
   "source": [
    "print(\"Write transactions after ingest: \" + str(write_tx_count))"
   ]
  },
  {
   "cell_type": "code",
   "execution_count": null,
   "metadata": {},
   "outputs": [],
   "source": [
    "sample = archive.retrieveObj(0)\n",
    "assert sample.pool_id==0\n",
    "pool_of_sample = Pool(archive.get_objects_by_pool_id(sample.pool_id))\n",
    "assert pool_of_sample.hash == pools[0].hash\n",
    "pool_in_blockchain = contract.functions.getPoolHash(sample.pool_id).call()\n",
    "assert pool_of_sample.hash == pool_in_blockchain.hex()"
   ]
  },
  {
   "cell_type": "code",
   "execution_count": null,
   "metadata": {},
   "outputs": [],
   "source": [
    "# update, zuerst schauen ob de rpool passt\n",
    "id = 0\n",
    "original_hash = archive.objects[id].hash\n",
    "archive.objects[id].hash=original_hash\n",
    "\n",
    "archive_pool = Pool(archive.get_objects_by_pool_id(archive.objects[id].pool_id),id=id)\n",
    "pool_in_blockchain = contract.functions.getPoolHash(archive.objects[id].pool_id).call()\n",
    "assert archive_pool.hash == pool_in_blockchain.hex()\n",
    "\n",
    "# falls ja das objekt ändern\n",
    "archive.objects[id].hash=original_hash+\"x\"\n",
    "# erneut die objekte aus dem pool im archiv holen und auf der blockchain persistieren\n",
    "updated_archive_pool = Pool(archive.get_objects_by_pool_id(archive.objects[id].pool_id),id=id)\n",
    "assert updated_archive_pool.hash!=pool_in_blockchain.hex()\n",
    "assert updated_archive_pool.id==id\n",
    "\n",
    "metaTx.update({\"nonce\":w3.eth.getTransactionCount(sender)})\n",
    "tx_hash = contract.functions.setPoolHash(updated_archive_pool.id,updated_archive_pool.hash).transact(metaTx)\n",
    "write_tx_count = write_tx_count + 1 \n",
    "\n",
    "# get the hash with pool id\n",
    "updated_pool_in_blockchain = contract.functions.getPoolHash(archive.objects[id].pool_id).call()\n",
    "assert pool_in_blockchain.hex() != updated_pool_in_blockchain.hex()"
   ]
  },
  {
   "cell_type": "code",
   "execution_count": null,
   "metadata": {},
   "outputs": [],
   "source": [
    "archive.corrupt(p)"
   ]
  },
  {
   "cell_type": "code",
   "execution_count": null,
   "metadata": {},
   "outputs": [
    {
     "name": "stdout",
     "output_type": "stream",
     "text": [
      "Write transactions before cleaning: 4\n"
     ]
    },
    {
     "data": {
      "application/vnd.jupyter.widget-view+json": {
       "model_id": "48d837bc73c044c9b3bb471783354899",
       "version_major": 2,
       "version_minor": 0
      },
      "text/plain": [
       "  0%|          | 0/10 [00:00<?, ?it/s]"
      ]
     },
     "metadata": {},
     "output_type": "display_data"
    },
    {
     "name": "stdout",
     "output_type": "stream",
     "text": [
      "Number of Distinct Cleaned Pools: 0\n",
      "Write transactions after cleaning: 4\n"
     ]
    }
   ],
   "source": [
    "print(\"Write transactions before cleaning: \" + str(write_tx_count))\n",
    "# repair every object in the archive\n",
    "already_cleaned_pool_ids = set()\n",
    "corrupted_objects_count = 0\n",
    "for obj in tqdm(archive.objects):\n",
    "    pool_of_sample = Pool(archive.get_objects_by_pool_id(obj.pool_id))\n",
    "    pool_in_blockchain = contract.functions.getPoolHash(obj.pool_id).call()\n",
    "\n",
    "    # is the local pool hash the same as the one in the blockchain? and make sure to not double repair a pool\n",
    "    if(pool_of_sample.hash != pool_in_blockchain.hex() and obj.pool_id not in already_cleaned_pool_ids):\n",
    "        write_tx_count=write_tx_count+1\n",
    "        metaTx.update({\"nonce\":w3.eth.getTransactionCount(sender)})\n",
    "        contract.functions.setPoolHash(pool.id,pool.hash).transact(metaTx)\n",
    "        already_cleaned_pool_ids.add(obj.pool_id)\n",
    "\n",
    "print(\"Number of Distinct Cleaned Pools: {}\".format(len(already_cleaned_pool_ids)))\n",
    "print(\"Write transactions after cleaning: {}\".format(write_tx_count))\n"
   ]
  },
  {
   "cell_type": "code",
   "execution_count": null,
   "metadata": {},
   "outputs": [],
   "source": [
    "\n"
   ]
  },
  {
   "cell_type": "code",
   "execution_count": null,
   "metadata": {},
   "outputs": [
    {
     "name": "stdout",
     "output_type": "stream",
     "text": [
      "Optimal poolsize 4 with prevalence 1.0 in N=10\n",
      "10 objects distributed in 3 pools with size=4 last pool with size=2\n",
      "Transaction Count: 4 \n",
      "Total Cost=ETH 0.00564600 for 4 transactions \n",
      "Theoretical amount of write transactions: 11.0 with N=10 + prevalence=1.0\n",
      "Repairing transactions=1, versus naive reparing transactions prevalence=1.0\n",
      "Number of Distinct Cleaned Pools: 0\n"
     ]
    }
   ],
   "source": [
    "fin_balance = w3.fromWei(w3.eth.get_balance(sender),\"ether\")\n",
    "fin_tx_count = w3.eth.getTransactionCount(sender)\n",
    "print(\"Optimal poolsize {} with prevalence {} in N={}\".format(k,prevalence,N))\n",
    "print(\"{} objects distributed in {} pools with size={} last pool with size={}\".format(N,len(pools),k,len(pools[len(pools)-1].objects)))\n",
    "print(\"Transaction Count: {} \".format(fin_tx_count - tx_count))\n",
    "print(\"Total Cost=ETH {} for {} transactions \".format((balance - fin_balance),(fin_tx_count - tx_count)))\n",
    "print(\"Theoretical amount of write transactions: {} with N={} + prevalence={}\".format((N+prevalence),N,prevalence))\n",
    "print(\"Repairing transactions={}, versus naive reparing transactions prevalence={}\".format(fin_tx_count-tx_count-len(pools),prevalence))\n",
    "print(\"Number of Distinct Cleaned Pools: {}\".format(len(already_cleaned_pool_ids)))\n",
    "\n"
   ]
  },
  {
   "cell_type": "code",
   "execution_count": null,
   "metadata": {},
   "outputs": [],
   "source": []
  },
  {
   "cell_type": "code",
   "execution_count": null,
   "metadata": {},
   "outputs": [],
   "source": [
    "# TODO optimal pool size!!!!\n",
    "# TODO make a pretty result table \n",
    "# TODO experiment on online network "
   ]
  },
  {
   "cell_type": "code",
   "execution_count": null,
   "metadata": {},
   "outputs": [],
   "source": [
    "# TODO nächstes mal auf ropsten testnet deployen und schauen was ich für einen throughput habe ud die kosten logge\n",
    "# simulieren soll ich den throughput und die kosten kann ich vorberechnen\n",
    "# rauber intressiert auch wie der thorughput vorberechnet ist und danach wie groß der unterschied zum tatsächliche throughput ist"
   ]
  }
 ],
 "metadata": {
  "interpreter": {
   "hash": "5cbe5617e6ebb12e3da79bf67e991f578f8d59969394801378cf6f07e711918d"
  },
  "kernelspec": {
   "display_name": "Python 3.9.7 64-bit ('ds': conda)",
   "language": "python",
   "name": "python3"
  },
  "language_info": {
   "codemirror_mode": {
    "name": "ipython",
    "version": 3
   },
   "file_extension": ".py",
   "mimetype": "text/x-python",
   "name": "python",
   "nbconvert_exporter": "python",
   "pygments_lexer": "ipython3",
   "version": "3.9.7"
  },
  "orig_nbformat": 4
 },
 "nbformat": 4,
 "nbformat_minor": 2
}
