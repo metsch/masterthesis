{
 "cells": [
  {
   "cell_type": "code",
   "execution_count": 150,
   "metadata": {},
   "outputs": [],
   "source": [
    "import random"
   ]
  },
  {
   "cell_type": "code",
   "execution_count": 151,
   "metadata": {},
   "outputs": [],
   "source": [
    "# TODO: Smart Contract - implement CRUD operations for pool.hash and pool.id and deploy it\n",
    "# ?? is update and delete even necessary?\n",
    "# TODO: design the bernoulli experiment\n",
    "# TODO: time and cost measurment for every write transaction\n",
    "# TODO time measurement for every read transaction"
   ]
  },
  {
   "cell_type": "code",
   "execution_count": 152,
   "metadata": {},
   "outputs": [],
   "source": [
    "# creation of N = 10k objects and assigning them corruption rate from 1% to 20% \n",
    "N = 10000\n",
    "c_max = 0.2\n",
    "c_min = 0\n",
    "\n",
    "class Object:\n",
    "    def __init__(self,pool,hash,corruption):\n",
    "        # reference to the pool, integer from 1 - inf \n",
    "        self.pool=pool\n",
    "        # sha256 string\n",
    "        self.hash=hash\n",
    "        # corruption rate from 0.01 to 0.2\n",
    "        self.corruption=corruption\n",
    "\n",
    "        self.is_corruped = False\n",
    "        \n",
    "objects = [Object(0,hash(i),random.uniform(c_min,c_max)) for i in range(0,N)]"
   ]
  },
  {
   "cell_type": "code",
   "execution_count": 153,
   "metadata": {},
   "outputs": [],
   "source": [
    "# RQ 2\n",
    "# finding the optimal pool size \"k\" with a bernoulli experiment based on the corruption rate\n",
    "# https://www.ncbi.nlm.nih.gov/pmc/articles/PMC8242460/\n",
    "def optimal_size(objects):\n",
    "    # TODO\n",
    "    return 10\n",
    "k = optimal_size(objects)"
   ]
  },
  {
   "cell_type": "code",
   "execution_count": 154,
   "metadata": {},
   "outputs": [],
   "source": [
    "# creation of J ceil(N/k) pools, fill them with objects and assign each object to a pool\n",
    "class Pool:\n",
    "    def __init__(self,objects,id):\n",
    "        # list of objects in the pool\n",
    "        self.objects=objects\n",
    "        # sha256 root hash of the hash-list\n",
    "        self.hash=hash(objects)\n",
    "        # reference to the pool, integer from 1 - inf \n",
    "        self.id=id\n",
    "        \n",
    "def pool_creation(N,k):\n",
    "    global objects\n",
    "    # TODO create pools and assign objects witht he pool id\n",
    "    return []\n",
    "pools = pool_creation(N,k)"
   ]
  },
  {
   "cell_type": "code",
   "execution_count": 155,
   "metadata": {},
   "outputs": [
    {
     "name": "stdout",
     "output_type": "stream",
     "text": [
      "Sender Account: 0x4741BD80286561620C69d12A7Da0f6C2Ab2CEEc2\n",
      "Contract Deployed at:\t0x1b247D057272a6ce5c3048CcbeFC9e8037817eA8\n"
     ]
    },
    {
     "data": {
      "text/plain": [
       "[<Function getPoolHash(uint32)>, <Function setPoolHash(uint32,bytes32)>]"
      ]
     },
     "execution_count": 155,
     "metadata": {},
     "output_type": "execute_result"
    }
   ],
   "source": [
    "# get contract from blockchain in order to interact with it\n",
    "import json\n",
    "import web3\n",
    "\n",
    "ganache_url = 'http://127.0.0.1:7545'\n",
    "w3 = web3.Web3(web3.HTTPProvider(ganache_url))\n",
    "\n",
    "sender = w3.eth.accounts[0]\n",
    "print(\"Sender Account: \" + sender)\n",
    "\n",
    "compiled_contract_path = '../sol/build/contracts/FixityStorage.json'\n",
    "deployed_contract_address = '0x1b247D057272a6ce5c3048CcbeFC9e8037817eA8'\n",
    "print(\"Contract Deployed at:\\t\" + deployed_contract_address)\n",
    "\n",
    "with open(compiled_contract_path) as file:\n",
    "    contract_json = json.load(file)  # load contract info as JSON\n",
    "    contract_abi = contract_json['abi']  # fetch contract's abi - necessary to call its functions\n",
    "\n",
    "# Fetch deployed contract reference\n",
    "contract = w3.eth.contract(address=deployed_contract_address, abi=contract_abi)\n",
    "contract.all_functions()"
   ]
  },
  {
   "cell_type": "code",
   "execution_count": 159,
   "metadata": {},
   "outputs": [
    {
     "data": {
      "text/plain": [
       "{'from': '0x4741BD80286561620C69d12A7Da0f6C2Ab2CEEc2',\n",
       " 'to': '0x1b247D057272a6ce5c3048CcbeFC9e8037817eA8',\n",
       " 'gas': 2000000,\n",
       " 'gasPrice': 50000000000}"
      ]
     },
     "execution_count": 159,
     "metadata": {},
     "output_type": "execute_result"
    }
   ],
   "source": [
    "# metadata for every ingestion transaction\n",
    "gas = 2000000\n",
    "gasPrice = w3.toWei('50', 'gwei')\n",
    "\n",
    "metaTx = {\n",
    "    #\"nonce\":w3.eth.getTransactionCount(sender) nonce is set on transaction call\n",
    "    \"from\":sender,\n",
    "    \"to\":deployed_contract_address,\n",
    "    \"gas\": gas,\n",
    "    \"gasPrice\": gasPrice\n",
    "}\n",
    "metaTx"
   ]
  },
  {
   "cell_type": "code",
   "execution_count": 160,
   "metadata": {},
   "outputs": [],
   "source": [
    "write_tx_count = 0\n",
    "read_tx_count = 0"
   ]
  },
  {
   "cell_type": "code",
   "execution_count": 166,
   "metadata": {},
   "outputs": [
    {
     "name": "stdout",
     "output_type": "stream",
     "text": [
      "{'from': '0x4741BD80286561620C69d12A7Da0f6C2Ab2CEEc2', 'to': '0x1b247D057272a6ce5c3048CcbeFC9e8037817eA8', 'gas': 2000000, 'gasPrice': 50000000000, 'nonce': 74}\n",
      "Transaction 0x46b8af49a1eebdcaff5cf25ce6330f55d6e76f924f5b15ab14339bd5c8bf3e29 succeeded\n"
     ]
    }
   ],
   "source": [
    "poolHash = \"18ac3e7343f016890c510e93f935261169d9e3f565436429830faf0934f4f8e4\"\n",
    "poolId = 2\n",
    "# set to blockchain\n",
    "metaTx.update({\"nonce\":w3.eth.getTransactionCount(sender)})\n",
    "print(metaTx)\n",
    "tx_hash = contract.functions.setPoolHash(poolId,poolHash).transact(metaTx)\n",
    "write_tx_count = write_tx_count + 1 \n",
    "print(\"Transaction \" + tx_hash.hex() + \" succeeded\")"
   ]
  },
  {
   "cell_type": "code",
   "execution_count": 167,
   "metadata": {},
   "outputs": [
    {
     "name": "stdout",
     "output_type": "stream",
     "text": [
      "SHA256 18ac3e7343f016890c510e93f935261169d9e3f565436429830faf0934f4f8e4 of poolId: 2\n"
     ]
    }
   ],
   "source": [
    "# retrieve from blockchain\n",
    "poolHashBytes = contract.functions.getPoolHash(poolId).call()\n",
    "read_tx_count = read_tx_count + 1\n",
    "print(\"SHA256 \"+poolHashBytes.hex()+\" of poolId: \" + str(poolId))"
   ]
  },
  {
   "cell_type": "code",
   "execution_count": null,
   "metadata": {},
   "outputs": [],
   "source": [
    "# TODO set J pool hashes on the blockchain"
   ]
  },
  {
   "cell_type": "code",
   "execution_count": 169,
   "metadata": {},
   "outputs": [],
   "source": [
    "# \"ingest\" objects into the \"archive\"\n",
    "import random\n",
    "\n",
    "class Archive:\n",
    "    def __init__(self,objects):\n",
    "        self.objects=objects\n",
    "\n",
    "    def retrieveObj(self,objectHash):\n",
    "        return next(obj for obj in objects if obj.hash == objectHash)\n",
    "\n",
    "    def retrievePool(self,pool_id):\n",
    "        return [obj for obj in self.objects if obj.pool == pool_id]\n",
    "    \n",
    "    def get_sample(self,n):\n",
    "        return random.sample(self.objects,n)\n",
    "\n",
    "    def repair(self,poolId):\n",
    "        # TODO what happens if a corrupt pool was found\n",
    "        return 0\n",
    "\n",
    "archive = Archive(objects)"
   ]
  },
  {
   "cell_type": "code",
   "execution_count": null,
   "metadata": {},
   "outputs": [],
   "source": [
    "# retrieve 100 \"randomly\" selected objects from the \"archive\" and check if check if they are corrupted \n",
    "# by comparing the newly computed pool hash with that one on the blockchain\n",
    "\n",
    "for i in range(0,100):\n",
    "    sample = archive.get_object(i)\n",
    "    newly_created_pool = archive.objects_of_pool(sample.pool)\n",
    "    online_pool = contract.get(sample.pool)\n",
    "    \n",
    "    if(online_pool.hash != newly_created_pool.hash):\n",
    "        sample.is_corruped=True\n",
    "        archive.repair(newly_created_pool)"
   ]
  }
 ],
 "metadata": {
  "interpreter": {
   "hash": "5cbe5617e6ebb12e3da79bf67e991f578f8d59969394801378cf6f07e711918d"
  },
  "kernelspec": {
   "display_name": "Python 3.9.7 64-bit ('ds': conda)",
   "language": "python",
   "name": "python3"
  },
  "language_info": {
   "codemirror_mode": {
    "name": "ipython",
    "version": 3
   },
   "file_extension": ".py",
   "mimetype": "text/x-python",
   "name": "python",
   "nbconvert_exporter": "python",
   "pygments_lexer": "ipython3",
   "version": "3.9.7"
  },
  "orig_nbformat": 4
 },
 "nbformat": 4,
 "nbformat_minor": 2
}
